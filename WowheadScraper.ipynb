{
 "metadata": {
  "language_info": {
   "codemirror_mode": {
    "name": "ipython",
    "version": 3
   },
   "file_extension": ".py",
   "mimetype": "text/x-python",
   "name": "python",
   "nbconvert_exporter": "python",
   "pygments_lexer": "ipython3",
   "version": "3.8.5-final"
  },
  "orig_nbformat": 2,
  "kernelspec": {
   "name": "python3",
   "display_name": "Python 3"
  }
 },
 "nbformat": 4,
 "nbformat_minor": 2,
 "cells": [
  {
   "cell_type": "code",
   "execution_count": 26,
   "metadata": {},
   "outputs": [],
   "source": [
    "import re\n",
    "import json\n",
    "from json import JSONEncoder\n",
    "import requests\n",
    "from bs4 import BeautifulSoup\n",
    "from selenium import webdriver\n",
    "from selenium.webdriver.firefox.options import Options"
   ]
  },
  {
   "cell_type": "code",
   "execution_count": 2,
   "metadata": {},
   "outputs": [],
   "source": [
    "d = \"\"\n",
    "with open(\"data/tempDataIDS.json\") as file:\n",
    "    d = json.loads(file.read())"
   ]
  },
  {
   "cell_type": "code",
   "execution_count": 27,
   "metadata": {},
   "outputs": [
    {
     "output_type": "stream",
     "name": "stdout",
     "text": [
      "Initializing Headless Driver\n"
     ]
    }
   ],
   "source": [
    "options = Options()\n",
    "options.headless = True\n",
    "driver = webdriver.Firefox(firefox_options=options, executable_path='C:\\Program Files\\Mozilla Firefox\\geckodriver.exe')\n",
    "print(\"Initializing Headless Driver\")"
   ]
  },
  {
   "cell_type": "code",
   "execution_count": 4,
   "metadata": {
    "tags": [
     "outputPrepend"
    ]
   },
   "outputs": [
    {
     "output_type": "stream",
     "name": "stdout",
     "text": [
      " 'Ring1': {'itemID': 21601}, 'Ring2': {'itemID': 21205}, 'Trinket1': {'itemID': 19406}, 'Trinket2': {'itemID': 13966}, 'MainHand': {'itemID': 21268}, 'OffHand': {'itemID': 13385}, 'Ranged': {'itemID': 23198}}, 'FeralTank-P6': {'Head': {'itemID': 21693}, 'Neck': {'itemID': 22732}, 'Shoulder': {'itemID': 19389}, 'Cloak': {'itemID': 22938}, 'Chest': {'itemID': 23226}, 'Wrist': {'itemID': 22663}, 'Gloves': {'itemID': 21672}, 'Waist': {'itemID': 21675}, 'Legs': {'itemID': 22740}, 'Boots': {'itemID': 19381}, 'Ring1': {'itemID': 23018}, 'Ring2': {'itemID': 21601}, 'Trinket1': {'itemID': 22954}, 'Trinket2': {'itemID': 19406}, 'MainHand': {'itemID': 21268}, 'OffHand': {'itemID': 13385}, 'Ranged': {'itemID': 23198}}, 'FeralDps-P5': {'Head': {'itemID': 8345}, 'Neck': {'itemID': 19377}, 'Shoulder': {'itemID': 21665}, 'Cloak': {'itemID': 21710}, 'Chest': {'itemID': 21680}, 'Wrist': {'itemID': 21602}, 'Gloves': {'itemID': 21672}, 'Waist': {'itemID': 21586}, 'Legs': {'itemID': 16450}, 'Boots': {'itemID': 21493}, 'Ring1': {'itemID': 21205}, 'Ring2': {'itemID': 19432}, 'Trinket1': {'itemID': 19406}, 'Trinket2': {'itemID': 21670}, 'MainHand': {'itemID': 21268}, 'OffHand': {'itemID': 13385}, 'Ranged': {'itemID': 23198}}, 'FeralDps-P6': {'Head': {'itemID': 8345}, 'Neck': {'itemID': 19377}, 'Shoulder': {'itemID': 21665}, 'Cloak': {'itemID': 21710}, 'Chest': {'itemID': 23226}, 'Wrist': {'itemID': 21602}, 'Gloves': {'itemID': 21672}, 'Waist': {'itemID': 21586}, 'Legs': {'itemID': 23071}, 'Boots': {'itemID': 21493}, 'Ring1': {'itemID': 23038}, 'Ring2': {'itemID': 19432}, 'Trinket1': {'itemID': 23041}, 'Trinket2': {'itemID': 22954}, 'MainHand': {'itemID': 22988}, 'OffHand': {'itemID': 13385}, 'Ranged': {'itemID': 23198}}, 'Restoration-P5': {'Head': {'itemID': 20628}, 'Neck': {'itemID': 21712}, 'Shoulder': {'itemID': 18810}, 'Cloak': {'itemID': 21583}, 'Chest': {'itemID': 21663}, 'Wrist': {'itemID': 21604}, 'Gloves': {'itemID': 21617}, 'Waist': {'itemID': 21582}, 'Legs': {'itemID': 19385}, 'Boots': {'itemID': 19437}, 'Ring1': {'itemID': 21620}, 'Ring2': {'itemID': 19382}, 'Trinket1': {'itemID': 19395}, 'Trinket2': {'itemID': 19955}, 'MainHand': {'itemID': 21839}, 'OffHand': {'itemID': 21666}, 'Ranged': {'itemID': 22399}}, 'Restoration-P6': {'Head': {'itemID': 20628}, 'Neck': {'itemID': 21712}, 'Shoulder': {'itemID': 22491}, 'Cloak': {'itemID': 22960}, 'Chest': {'itemID': 22488}, 'Wrist': {'itemID': 21604}, 'Gloves': {'itemID': 21617}, 'Waist': {'itemID': 21582}, 'Legs': {'itemID': 22489}, 'Boots': {'itemID': 22492}, 'Ring1': {'itemID': 22939}, 'Ring2': {'itemID': 21620}, 'Trinket1': {'itemID': 19395}, 'Trinket2': {'itemID': 23047}, 'MainHand': {'itemID': 23056}, 'OffHand': {'itemID': 23048}, 'Ranged': {'itemID': 22399}}, 'Balance-P5': {'Head': {'itemID': 19375}, 'Neck': {'itemID': 21608}, 'Shoulder': {'itemID': 19370}, 'Cloak': {'itemID': 22731}, 'Chest': {'itemID': 19682}, 'Wrist': {'itemID': 19374}, 'Gloves': {'itemID': 21585}, 'Waist': {'itemID': 22730}, 'Legs': {'itemID': 19683}, 'Boots': {'itemID': 19684}, 'Ring1': {'itemID': 19403}, 'Ring2': {'itemID': 21709}, 'Trinket1': {'itemID': 19379}, 'Trinket2': {'itemID': 18820}, 'MainHand': {'itemID': 19360}, 'OffHand': {'itemID': 21597}, 'Ranged': {'itemID': 23197}}, 'Balance-P6': {'Head': {'itemID': 19375}, 'Neck': {'itemID': 23057}, 'Shoulder': {'itemID': 22983}, 'Cloak': {'itemID': 23050}, 'Chest': {'itemID': 19682}, 'Wrist': {'itemID': 23021}, 'Gloves': {'itemID': 21585}, 'Waist': {'itemID': 22730}, 'Legs': {'itemID': 19683}, 'Boots': {'itemID': 19684}, 'Ring1': {'itemID': 23025}, 'Ring2': {'itemID': 21709}, 'Trinket1': {'itemID': 19379}, 'Trinket2': {'itemID': 23046}, 'MainHand': {'itemID': 22988}, 'OffHand': {'itemID': 23049}, 'Ranged': {'itemID': 23197}}}, 'Hunter': {'All-P5': {'Head': {'itemID': 16939}, 'Neck': {'itemID': 19377}, 'Shoulder': {'itemID': 16937}, 'Cloak': {'itemID': 21710}, 'Chest': {'itemID': 16942}, 'Wrist': {'itemID': 16935}, 'Gloves': {'itemID': 16940}, 'Waist': {'itemID': 16936}, 'Legs': {'itemID': 16938}, 'Boots': {'itemID': 16941}, 'Ring1': {'itemID': 17063}, 'Ring2': {'itemID': 19384}, 'Trinket1': {'itemID': 19406}, 'Trinket2': {'itemID': 18473}, 'MainHand': {'itemID': 21673}, 'OffHand': {'itemID': 19859}, 'Ranged': {'itemID': 19361}}, 'All-P6': {'Head': {'itemID': 22438}, 'Neck': {'itemID': 23053}, 'Shoulder': {'itemID': 22439}, 'Cloak': {'itemID': 23045}, 'Chest': {'itemID': 22436}, 'Wrist': {'itemID': 22443}, 'Gloves': {'itemID': 16571}, 'Waist': {'itemID': 22442}, 'Legs': {'itemID': 22437}, 'Boots': {'itemID': 22440}, 'Ring1': {'itemID': 23067}, 'Ring2': {'itemID': 22961}, 'Trinket1': {'itemID': 23041}, 'Trinket2': {'itemID': 19406}, 'MainHand': {'itemID': 22816}, 'OffHand': {'itemID': 22802}, 'Ranged': {'itemID': 22812}}}, 'Mage': {'All-P5': {'Head': {'itemID': 19375}, 'Neck': {'itemID': 21608}, 'Shoulder': {'itemID': 19370}, 'Cloak': {'itemID': 22731}, 'Chest': {'itemID': 21343}, 'Wrist': {'itemID': 21186}, 'Gloves': {'itemID': 21585}, 'Waist': {'itemID': 22730}, 'Legs': {'itemID': 21461}, 'Boots': {'itemID': 21344}, 'Ring1': {'itemID': 21709}, 'Ring2': {'itemID': 21836}, 'Trinket1': {'itemID': 19950}, 'Trinket2': {'itemID': 19379}, 'MainHand': {'itemID': 21622}, 'OffHand': {'itemID': 21597}, 'Ranged': {'itemID': 21603}}, 'All-P6': {'Head': {'itemID': 22498}, 'Neck': {'itemID': 23057}, 'Shoulder': {'itemID': 22983}, 'Cloak': {'itemID': 23050}, 'Chest': {'itemID': 22496}, 'Wrist': {'itemID': 23021}, 'Gloves': {'itemID': 21585}, 'Waist': {'itemID': 22730}, 'Legs': {'itemID': 23070}, 'Boots': {'itemID': 22500}, 'Ring1': {'itemID': 23062}, 'Ring2': {'itemID': 23237}, 'Trinket1': {'itemID': 23046}, 'Trinket2': {'itemID': 19379}, 'MainHand': {'itemID': 22807}, 'OffHand': {'itemID': 23049}, 'Ranged': {'itemID': 22821}}}, 'Paladin': {'Holy-P5': {'Head': {'itemID': 19375}, 'Neck': {'itemID': 21712}, 'Shoulder': {'itemID': 18810}, 'Cloak': {'itemID': 21583}, 'Chest': {'itemID': 21663}, 'Wrist': {'itemID': 21604}, 'Gloves': {'itemID': 20264}, 'Waist': {'itemID': 21582}, 'Legs': {'itemID': 21667}, 'Boots': {'itemID': 19437}, 'Ring1': {'itemID': 21620}, 'Ring2': {'itemID': 19382}, 'Trinket1': {'itemID': 19395}, 'Trinket2': {'itemID': 17064}, 'MainHand': {'itemID': 21839}, 'OffHand': {'itemID': 21666}, 'Ranged': {'itemID': 22402}}, 'Holy-P6': {'Head': {'itemID': 19375}, 'Neck': {'itemID': 23057}, 'Shoulder': {'itemID': 22429}, 'Cloak': {'itemID': 23050}, 'Chest': {'itemID': 22425}, 'Wrist': {'itemID': 21604}, 'Gloves': {'itemID': 20264}, 'Waist': {'itemID': 21582}, 'Legs': {'itemID': 22427}, 'Boots': {'itemID': 22430}, 'Ring1': {'itemID': 23066}, 'Ring2': {'itemID': 19382}, 'Trinket1': {'itemID': 19395}, 'Trinket2': {'itemID': 23047}, 'MainHand': {'itemID': 23056}, 'OffHand': {'itemID': 23075}, 'Ranged': {'itemID': 23006}}, 'Retribution-P5': {'Head': {'itemID': 21387}, 'Neck': {'itemID': 18404}, 'Shoulder': {'itemID': 21391}, 'Cloak': {'itemID': 21701}, 'Chest': {'itemID': 21389}, 'Wrist': {'itemID': 21618}, 'Gloves': {'itemID': 21623}, 'Waist': {'itemID': 21463}, 'Legs': {'itemID': 21390}, 'Boots': {'itemID': 21388}, 'Ring1': {'itemID': 17063}, 'Ring2': {'itemID': 21203}, 'Trinket1': {'itemID': 22321}, 'Trinket2': {'itemID': 19289}, 'MainHand': {'itemID': 21134}, 'OffHand': {'itemID': 0}, 'Ranged': {'itemID': 23203}}, 'Retribution-P6': {'Head': {'itemID': 21387}, 'Neck': {'itemID': 18404}, 'Shoulder': {'itemID': 21391}, 'Cloak': {'itemID': 23045}, 'Chest': {'itemID': 21389}, 'Wrist': {'itemID': 22936}, 'Gloves': {'itemID': 21623}, 'Waist': {'itemID': 23219}, 'Legs': {'itemID': 21390}, 'Boots': {'itemID': 21388}, 'Ring1': {'itemID': 23038}, 'Ring2': {'itemID': 21203}, 'Trinket1': {'itemID': 22321}, 'Trinket2': {'itemID': 19289}, 'MainHand': {'itemID': 22691}, 'OffHand': {'itemID': 0}, 'Ranged': {'itemID': 23203}}, 'Protection-P5': {'Head': {'itemID': 21387}, 'Neck': {'itemID': 22732}, 'Shoulder': {'itemID': 21639}, 'Cloak': {'itemID': 19888}, 'Chest': {'itemID': 21389}, 'Wrist': {'itemID': 16951}, 'Gloves': {'itemID': 21674}, 'Waist': {'itemID': 21598}, 'Legs': {'itemID': 19855}, 'Boots': {'itemID': 21706}, 'Ring1': {'itemID': 21200}, 'Ring2': {'itemID': 21601}, 'Trinket1': {'itemID': 19431}, 'Trinket2': {'itemID': 18406}, 'MainHand': {'itemID': 19335}, 'OffHand': {'itemID': 21269}, 'Ranged': {'itemID': 22401}}, 'Protection-P6': {'Head': {'itemID': 21387}, 'Neck': {'itemID': 22732}, 'Shoulder': {'itemID': 21639}, 'Cloak': {'itemID': 22938}, 'Chest': {'itemID': 21389}, 'Wrist': {'itemID': 18754}, 'Gloves': {'itemID': 21674}, 'Waist': {'itemID': 21598}, 'Legs': {'itemID': 19855}, 'Boots': {'itemID': 21706}, 'Ring1': {'itemID': 21200}, 'Ring2': {'itemID': 21601}, 'Trinket1': {'itemID': 19431}, 'Trinket2': {'itemID': 18406}, 'MainHand': {'itemID': 23577}, 'OffHand': {'itemID': 22818}, 'Ranged': {'itemID': 22401}}}, 'Priest': {'Holy-P5': {'Head': {'itemID': 21615}, 'Neck': {'itemID': 21712}, 'Shoulder': {'itemID': 21694}, 'Cloak': {'itemID': 21583}, 'Chest': {'itemID': 21663}, 'Wrist': {'itemID': 21604}, 'Gloves': {'itemID': 21619}, 'Waist': {'itemID': 21582}, 'Legs': {'itemID': 19385}, 'Boots': {'itemID': 16919}, 'Ring1': {'itemID': 19382}, 'Ring2': {'itemID': 21620}, 'Trinket1': {'itemID': 19395}, 'Trinket2': {'itemID': 20636}, 'MainHand': {'itemID': 21839}, 'OffHand': {'itemID': 19366}, 'Ranged': {'itemID': 19367}}, 'Holy-P6': {'Head': {'itemID': 22514}, 'Neck': {'itemID': 21712}, 'Shoulder': {'itemID': 22515}, 'Cloak': {'itemID': 22960}, 'Chest': {'itemID': 22512}, 'Wrist': {'itemID': 21604}, 'Gloves': {'itemID': 22517}, 'Waist': {'itemID': 21582}, 'Legs': {'itemID': 22513}, 'Boots': {'itemID': 22516}, 'Ring1': {'itemID': 23061}, 'Ring2': {'itemID': 22939}, 'Trinket1': {'itemID': 23027}, 'Trinket2': {'itemID': 23047}, 'MainHand': {'itemID': 23056}, 'OffHand': {'itemID': 23048}, 'Ranged': {'itemID': 23009}}, 'Hybrid-P5': {'Head': {'itemID': 21348}, 'Neck': {'itemID': 18814}, 'Shoulder': {'itemID': 19370}, 'Cloak': {'itemID': 22731}, 'Chest': {'itemID': 21351}, 'Wrist': {'itemID': 21611}, 'Gloves': {'itemID': 21585}, 'Waist': {'itemID': 19400}, 'Legs': {'itemID': 19133}, 'Boots': {'itemID': 19131}, 'Ring1': {'itemID': 21709}, 'Ring2': {'itemID': 21210}, 'Trinket1': {'itemID': 19379}, 'Trinket2': {'itemID': 18820}, 'MainHand': {'itemID': 19360}, 'OffHand': {'itemID': 19366}, 'Ranged': {'itemID': 13396}}, 'Hybrid-P6': {'Head': {'itemID': 23035}, 'Neck': {'itemID': 18814}, 'Shoulder': {'itemID': 22983}, 'Cloak': {'itemID': 22731}, 'Chest': {'itemID': 23220}, 'Wrist': {'itemID': 21611}, 'Gloves': {'itemID': 21585}, 'Waist': {'itemID': 19400}, 'Legs': {'itemID': 19133}, 'Boots': {'itemID': 19131}, 'Ring1': {'itemID': 21709}, 'Ring2': {'itemID': 21210}, 'Trinket1': {'itemID': 19379}, 'Trinket2': {'itemID': 23046}, 'MainHand': {'itemID': 22988}, 'OffHand': {'itemID': 23049}, 'Ranged': {'itemID': 13396}}}, 'Rogue': {'Swords-P5': {'Head': {'itemID': 21360}, 'Neck': {'itemID': 19377}, 'Shoulder': {'itemID': 21361}, 'Cloak': {'itemID': 21701}, 'Chest': {'itemID': 21364}, 'Wrist': {'itemID': 21602}, 'Gloves': {'itemID': 21672}, 'Waist': {'itemID': 21586}, 'Legs': {'itemID': 21362}, 'Boots': {'itemID': 21359}, 'Ring1': {'itemID': 17063}, 'Ring2': {'itemID': 19384}, 'Trinket1': {'itemID': 23570}, 'Trinket2': {'itemID': 19406}, 'MainHand': {'itemID': 21650}, 'OffHand': {'itemID': 19351}, 'Ranged': {'itemID': 17069}}, 'Swords-P6': {'Head': {'itemID': 21360}, 'Neck': {'itemID': 19377}, 'Shoulder': {'itemID': 22479}, 'Cloak': {'itemID': 23045}, 'Chest': {'itemID': 22476}, 'Wrist': {'itemID': 22483}, 'Gloves': {'itemID': 22481}, 'Waist': {'itemID': 22482}, 'Legs': {'itemID': 22477}, 'Boots': {'itemID': 22480}, 'Ring1': {'itemID': 23060}, 'Ring2': {'itemID': 23038}, 'Trinket1': {'itemID': 23041}, 'Trinket2': {'itemID': 22954}, 'MainHand': {'itemID': 23054}, 'OffHand': {'itemID': 23577}, 'Ranged': {'itemID': 22812}}, 'Daggers-P5': {'Head': {'itemID': 21360}, 'Neck': {'itemID': 19377}, 'Shoulder': {'itemID': 21361}, 'Cloak': {'itemID': 21701}, 'Chest': {'itemID': 21364}, 'Wrist': {'itemID': 21602}, 'Gloves': {'itemID': 18823}, 'Waist': {'itemID': 21586}, 'Legs': {'itemID': 21362}, 'Boots': {'itemID': 21359}, 'Ring1': {'itemID': 17063}, 'Ring2': {'itemID': 19384}, 'Trinket1': {'itemID': 23570}, 'Trinket2': {'itemID': 19406}, 'MainHand': {'itemID': 21126}, 'OffHand': {'itemID': 21244}, 'Ranged': {'itemID': 17069}}, 'Daggers-P6': {'Head': {'itemID': 21360}, 'Neck': {'itemID': 19377}, 'Shoulder': {'itemID': 22479}, 'Cloak': {'itemID': 23045}, 'Chest': {'itemID': 22476}, 'Wrist': {'itemID': 22483}, 'Gloves': {'itemID': 18823}, 'Waist': {'itemID': 21586}, 'Legs': {'itemID': 22477}, 'Boots': {'itemID': 22480}, 'Ring1': {'itemID': 23060}, 'Ring2': {'itemID': 23038}, 'Trinket1': {'itemID': 23041}, 'Trinket2': {'itemID': 22954}, 'MainHand': {'itemID': 22802}, 'OffHand': {'itemID': 21126}, 'Ranged': {'itemID': 22812}}}, 'Shaman': {'Elemental-P5': {'Head': {'itemID': 19375}, 'Neck': {'itemID': 21608}, 'Shoulder': {'itemID': 21376}, 'Cloak': {'itemID': 22731}, 'Chest': {'itemID': 21671}, 'Wrist': {'itemID': 21464}, 'Gloves': {'itemID': 21585}, 'Waist': {'itemID': 22730}, 'Legs': {'itemID': 21375}, 'Boots': {'itemID': 21373}, 'Ring1': {'itemID': 21707}, 'Ring2': {'itemID': 21709}, 'Trinket1': {'itemID': 19379}, 'Trinket2': {'itemID': 19344}, 'MainHand': {'itemID': 19360}, 'OffHand': {'itemID': 21597}, 'Ranged': {'itemID': 23199}}, 'Elemental-P6': {'Head': {'itemID': 19375}, 'Neck': {'itemID': 22943}, 'Shoulder': {'itemID': 21376}, 'Cloak': {'itemID': 23050}, 'Chest': {'itemID': 21671}, 'Wrist': {'itemID': 21464}, 'Gloves': {'itemID': 21585}, 'Waist': {'itemID': 22730}, 'Legs': {'itemID': 21375}, 'Boots': {'itemID': 21373}, 'Ring1': {'itemID': 21707}, 'Ring2': {'itemID': 21709}, 'Trinket1': {'itemID': 19379}, 'Trinket2': {'itemID': 23046}, 'MainHand': {'itemID': 22988}, 'OffHand': {'itemID': 23049}, 'Ranged': {'itemID': 23199}}, 'Enhancement-P5': {'Head': {'itemID': 18817}, 'Neck': {'itemID': 18404}, 'Shoulder': {'itemID': 21684}, 'Cloak': {'itemID': 21701}, 'Chest': {'itemID': 21374}, 'Wrist': {'itemID': 21602}, 'Gloves': {'itemID': 21624}, 'Waist': {'itemID': 21586}, 'Legs': {'itemID': 21651}, 'Boots': {'itemID': 21705}, 'Ring1': {'itemID': 17063}, 'Ring2': {'itemID': 18821}, 'Trinket1': {'itemID': 22321}, 'Trinket2': {'itemID': 19289}, 'MainHand': {'itemID': 19363}, 'OffHand': {'itemID': 17106}, 'Ranged': {'itemID': 22395}}, 'Enhancement-P6': {'Head': {'itemID': 18817}, 'Neck': {'itemID': 18404}, 'Shoulder': {'itemID': 21684}, 'Cloak': {'itemID': 23045}, 'Chest': {'itemID': 21374}, 'Wrist': {'itemID': 21602}, 'Gloves': {'itemID': 21624}, 'Waist': {'itemID': 21586}, 'Legs': {'itemID': 21651}, 'Boots': {'itemID': 21705}, 'Ring1': {'itemID': 17063}, 'Ring2': {'itemID': 23038}, 'Trinket1': {'itemID': 22321}, 'Trinket2': {'itemID': 19289}, 'MainHand': {'itemID': 19363}, 'OffHand': {'itemID': 17106}, 'Ranged': {'itemID': 22395}}, 'Restoration-P5': {'Head': {'itemID': 21372}, 'Neck': {'itemID': 21712}, 'Shoulder': {'itemID': 21376}, 'Cloak': {'itemID': 21583}, 'Chest': {'itemID': 21374}, 'Wrist': {'itemID': 16943}, 'Gloves': {'itemID': 16948}, 'Waist': {'itemID': 19162}, 'Legs': {'itemID': 21375}, 'Boots': {'itemID': 21373}, 'Ring1': {'itemID': 21620}, 'Ring2': {'itemID': 19382}, 'Trinket1': {'itemID': 17064}, 'Trinket2': {'itemID': 19395}, 'MainHand': {'itemID': 21839}, 'OffHand': {'itemID': 21666}, 'Ranged': {'itemID': 22396}}, 'Restoration-P6': {'Head': {'itemID': 22466}, 'Neck': {'itemID': 21712}, 'Shoulder': {'itemID': 22467}, 'Cloak': {'itemID': 21583}, 'Chest': {'itemID': 22464}, 'Wrist': {'itemID': 22471}, 'Gloves': {'itemID': 22469}, 'Waist': {'itemID': 22470}, 'Legs': {'itemID': 22465}, 'Boots': {'itemID': 22468}, 'Ring1': {'itemID': 23065}, 'Ring2': {'itemID': 19382}, 'Trinket1': {'itemID': 23047}, 'Trinket2': {'itemID': 19395}, 'MainHand': {'itemID': 23056}, 'OffHand': {'itemID': 22819}, 'Ranged': {'itemID': 22396}}}, 'Warlock': {'All-P5': {'Head': {'itemID': 21337}, 'Neck': {'itemID': 21608}, 'Shoulder': {'itemID': 21335}, 'Cloak': {'itemID': 22731}, 'Chest': {'itemID': 19682}, 'Wrist': {'itemID': 21186}, 'Gloves': {'itemID': 21585}, 'Waist': {'itemID': 22730}, 'Legs': {'itemID': 19683}, 'Boots': {'itemID': 19684}, 'Ring1': {'itemID': 21709}, 'Ring2': {'itemID': 21417}, 'Trinket1': {'itemID': 19379}, 'Trinket2': {'itemID': 18820}, 'MainHand': {'itemID': 21622}, 'OffHand': {'itemID': 21597}, 'Ranged': {'itemID': 21603}}, 'All-P6': {'Head': {'itemID': 22506}, 'Neck': {'itemID': 23057}, 'Shoulder': {'itemID': 22507}, 'Cloak': {'itemID': 23050}, 'Chest': {'itemID': 22504}, 'Wrist': {'itemID': 21186}, 'Gloves': {'itemID': 21585}, 'Waist': {'itemID': 22730}, 'Legs': {'itemID': 23070}, 'Boots': {'itemID': 22508}, 'Ring1': {'itemID': 21709}, 'Ring2': {'itemID': 23025}, 'Trinket1': {'itemID': 23046}, 'Trinket2': {'itemID': 19379}, 'MainHand': {'itemID': 22807}, 'OffHand': {'itemID': 23049}, 'Ranged': {'itemID': 22821}}}, 'Warrior': {'Fury-P5': {'Head': {'itemID': 12640}, 'Neck': {'itemID': 21664}, 'Shoulder': {'itemID': 21330}, 'Cloak': {'itemID': 21701}, 'Chest': {'itemID': 21331}, 'Wrist': {'itemID': 21618}, 'Gloves': {'itemID': 21581}, 'Waist': {'itemID': 19137}, 'Legs': {'itemID': 22385}, 'Boots': {'itemID': 19387}, 'Ring1': {'itemID': 21677}, 'Ring2': {'itemID': 19384}, 'Trinket1': {'itemID': 19406}, 'Trinket2': {'itemID': 21670}, 'MainHand': {'itemID': 21242}, 'OffHand': {'itemID': 19363}, 'Ranged': {'itemID': 17069}}, 'Fury-P6': {'Head': {'itemID': 12640}, 'Neck': {'itemID': 23053}, 'Shoulder': {'itemID': 21330}, 'Cloak': {'itemID': 23045}, 'Chest': {'itemID': 23000}, 'Wrist': {'itemID': 22936}, 'Gloves': {'itemID': 21581}, 'Waist': {'itemID': 23219}, 'Legs': {'itemID': 23068}, 'Boots': {'itemID': 19387}, 'Ring1': {'itemID': 23038}, 'Ring2': {'itemID': 21677}, 'Trinket1': {'itemID': 19406}, 'Trinket2': {'itemID': 22954}, 'MainHand': {'itemID': 23054}, 'OffHand': {'itemID': 23577}, 'Ranged': {'itemID': 22811}}, 'Protection-P5': {'Head': {'itemID': 21329}, 'Neck': {'itemID': 22732}, 'Shoulder': {'itemID': 21330}, 'Cloak': {'itemID': 21710}, 'Chest': {'itemID': 21331}, 'Wrist': {'itemID': 21457}, 'Gloves': {'itemID': 21674}, 'Waist': {'itemID': 21598}, 'Legs': {'itemID': 21332}, 'Boots': {'itemID': 19387}, 'Ring1': {'itemID': 21205}, 'Ring2': {'itemID': 17063}, 'Trinket1': {'itemID': 19341}, 'Trinket2': {'itemID': 19431}, 'MainHand': {'itemID': 21126}, 'OffHand': {'itemID': 21269}, 'Ranged': {'itemID': 21459}}, 'Protection-P6': {'Head': {'itemID': 22418}, 'Neck': {'itemID': 22732}, 'Shoulder': {'itemID': 21330}, 'Cloak': {'itemID': 21710}, 'Chest': {'itemID': 21331}, 'Wrist': {'itemID': 21457}, 'Gloves': {'itemID': 21674}, 'Waist': {'itemID': 21598}, 'Legs': {'itemID': 21332}, 'Boots': {'itemID': 19387}, 'Ring1': {'itemID': 21205}, 'Ring2': {'itemID': 17063}, 'Trinket1': {'itemID': 19341}, 'Trinket2': {'itemID': 22954}, 'MainHand': {'itemID': 23577}, 'OffHand': {'itemID': 23043}, 'Ranged': {'itemID': 22811}}, 'FuryProt-P5': {'Head': {'itemID': 12640}, 'Neck': {'itemID': 18404}, 'Shoulder': {'itemID': 19394}, 'Cloak': {'itemID': 17102}, 'Chest': {'itemID': 11726}, 'Wrist': {'itemID': 19578}, 'Gloves': {'itemID': 19143}, 'Waist': {'itemID': 19137}, 'Legs': {'itemID': 16962}, 'Boots': {'itemID': 19387}, 'Ring1': {'itemID': 17063}, 'Ring2': {'itemID': 19384}, 'Trinket1': {'itemID': 19406}, 'Trinket2': {'itemID': 11815}, 'MainHand': {'itemID': 19352}, 'OffHand': {'itemID': 19351}, 'Ranged': {'itemID': 17072}}, 'FuryProt-P6': {'Head': {'itemID': 12640}, 'Neck': {'itemID': 18404}, 'Shoulder': {'itemID': 19394}, 'Cloak': {'itemID': 17102}, 'Chest': {'itemID': 11726}, 'Wrist': {'itemID': 19578}, 'Gloves': {'itemID': 19143}, 'Waist': {'itemID': 19137}, 'Legs': {'itemID': 16962}, 'Boots': {'itemID': 19387}, 'Ring1': {'itemID': 17063}, 'Ring2': {'itemID': 19384}, 'Trinket1': {'itemID': 19406}, 'Trinket2': {'itemID': 11815}, 'MainHand': {'itemID': 19352}, 'OffHand': {'itemID': 19351}, 'Ranged': {'itemID': 17072}}}}\n"
     ]
    }
   ],
   "source": [
    "print(d)"
   ]
  },
  {
   "cell_type": "code",
   "execution_count": 5,
   "metadata": {},
   "outputs": [],
   "source": [
    "class Item:\n",
    "    def __init__(self, id, npcID, npcName, kill, quest, questID, recipe, recipeID, dropChance, zone):\n",
    "        self.id = id\n",
    "        self.Obtain = {}\n",
    "        self.Obtain[\"NpcID\"] = npcID\n",
    "        self.Obtain[\"NpcName\"] = npcName\n",
    "        self.Obtain[\"Kill\"] = kill\n",
    "        self.Obtain[\"Quest\"] = quest\n",
    "        self.Obtain[\"QuestID\"] = questID\n",
    "        self.Obtain[\"Recipe\"] = recipe\n",
    "        self.Obtain[\"RecipeID\"] = recipeID\n",
    "        self.Obtain[\"DropChance\"] = dropChance\n",
    "        self.Obtain[\"Zone\"] = zone\n",
    "    def toJson(self):\n",
    "        return json.dumps(self, default=lambda o: o.__dict__)"
   ]
  },
  {
   "cell_type": "code",
   "execution_count": 28,
   "metadata": {},
   "outputs": [],
   "source": [
    "def ItemIsObtainType(val, ty):\n",
    "    return val[\"Obtain\"][\"Type\"] == ty\n",
    "\n",
    "def GetItemFromOldDataSlot(itemID):\n",
    "    url = \"https://classic.wowhead.com/item=\" + str(itemID)\n",
    "    print(url)\n",
    "    driver.get(url)\n",
    "    page = driver.page_source\n",
    "\n",
    "    soup = BeautifulSoup(page)\n",
    "\n",
    "    rewardTab = soup.find('div',id='jkbfksdbl4')\n",
    "    selectedText = rewardTab.find('a', class_='selected')['href']\n",
    "\n",
    "    rows = soup.find(id='lkljbjkb574')\n",
    "    firstRow = rows.find('tr', class_='listview-row')\n",
    "    o = \"\"\n",
    "    if (selectedText == \"#dropped-by\") :\n",
    "        npcATag = firstRow.find('a', class_='listview-cleartext')\n",
    "        npcLink = npcATag['href']\n",
    "        npcID = int(re.search(\"(?<=\\/npc=)(.*)(?=\\/)\", npcLink).group(0))\n",
    "        npcLocation = \"\"\n",
    "        npcLocationTag = firstRow.find('a', class_='q1')\n",
    "        if (npcLocationTag is not None):\n",
    "            npcLocation = npcLocationTag.text\n",
    "        dropChance = firstRow.find_all('td')[6].text\n",
    "        npcName = npcATag.text\n",
    "        o = Item(itemID, npcID, npcName, True, False, 0, False, 0, dropChance, npcLocation)\n",
    "    elif (selectedText == \"#created-by-spell\"):\n",
    "        recipeATag = firstRow.find('a', class_='listview-cleartext')\n",
    "        recipeLink = recipeATag['href']\n",
    "        recipeID = int(re.search(\"(?<=\\/spell=)(.*)(?=\\/)\", recipeLink).group(0))\n",
    "        o = Item(itemID, 0, \"\", False, False, 0, True, recipeID, 0, \"\")\n",
    "    elif (selectedText == \"#reward-from-q\"):\n",
    "        questATag = firstRow.find('a', class_=\"listview-cleartext\")\n",
    "        questLink = questATag['href']\n",
    "        questID = int(re.search(\"(?<=\\/quest=)(.*)(?=\\/)\", questLink).group(0))\n",
    "        questLocation = \"\"\n",
    "        questLocationTag = firstRow.find_all('td')[8].find('a')\n",
    "        if (questLocationTag is not None):\n",
    "            questLocation = questLocationTag.text\n",
    "        dropChance = firstRow.find_all('td')[6].text\n",
    "        o = Item(itemID, 0, \"\", False, True, questID, False, 0, 0, questLocation)\n",
    "    else:\n",
    "        o = Item(itemID, 0, \"\", False, False, 0, False, 0, 0, \"\")\n",
    "\n",
    "    \n",
    "    \n",
    "\n",
    "    print(\"done with \" + str(itemID))\n",
    "    return o.toJson()"
   ]
  },
  {
   "cell_type": "code",
   "execution_count": 29,
   "metadata": {
    "tags": []
   },
   "outputs": [
    {
     "output_type": "stream",
     "name": "stdout",
     "text": [
      "Druid\n",
      "FeralTank-P5\n",
      "https://classic.wowhead.com/item=21693\n",
      "done with 21693\n",
      "https://classic.wowhead.com/item=22732\n",
      "done with 22732\n",
      "https://classic.wowhead.com/item=19389\n",
      "done with 19389\n",
      "https://classic.wowhead.com/item=19386\n",
      "done with 19386\n",
      "https://classic.wowhead.com/item=19405\n",
      "done with 19405\n",
      "https://classic.wowhead.com/item=21602\n",
      "done with 21602\n",
      "https://classic.wowhead.com/item=21672\n",
      "done with 21672\n",
      "https://classic.wowhead.com/item=21675\n",
      "done with 21675\n",
      "https://classic.wowhead.com/item=22740\n",
      "done with 22740\n",
      "https://classic.wowhead.com/item=19381\n",
      "done with 19381\n",
      "https://classic.wowhead.com/item=21601\n",
      "done with 21601\n",
      "https://classic.wowhead.com/item=21205\n",
      "done with 21205\n",
      "https://classic.wowhead.com/item=19406\n",
      "done with 19406\n",
      "https://classic.wowhead.com/item=13966\n",
      "done with 13966\n",
      "https://classic.wowhead.com/item=21268\n",
      "done with 21268\n",
      "https://classic.wowhead.com/item=13385\n",
      "done with 13385\n",
      "https://classic.wowhead.com/item=23198\n",
      "done with 23198\n",
      "FeralTank-P6\n",
      "https://classic.wowhead.com/item=21693\n",
      "done with 21693\n",
      "https://classic.wowhead.com/item=22732\n",
      "done with 22732\n",
      "https://classic.wowhead.com/item=19389\n",
      "done with 19389\n",
      "https://classic.wowhead.com/item=22938\n",
      "done with 22938\n",
      "https://classic.wowhead.com/item=23226\n",
      "done with 23226\n",
      "https://classic.wowhead.com/item=22663\n",
      "done with 22663\n",
      "https://classic.wowhead.com/item=21672\n",
      "done with 21672\n",
      "https://classic.wowhead.com/item=21675\n",
      "done with 21675\n",
      "https://classic.wowhead.com/item=22740\n",
      "done with 22740\n",
      "https://classic.wowhead.com/item=19381\n",
      "done with 19381\n",
      "https://classic.wowhead.com/item=23018\n",
      "done with 23018\n",
      "https://classic.wowhead.com/item=21601\n",
      "done with 21601\n",
      "https://classic.wowhead.com/item=22954\n",
      "done with 22954\n",
      "https://classic.wowhead.com/item=19406\n",
      "done with 19406\n",
      "https://classic.wowhead.com/item=21268\n",
      "done with 21268\n",
      "https://classic.wowhead.com/item=13385\n",
      "done with 13385\n",
      "https://classic.wowhead.com/item=23198\n",
      "done with 23198\n",
      "FeralDps-P5\n",
      "https://classic.wowhead.com/item=8345\n",
      "done with 8345\n",
      "https://classic.wowhead.com/item=19377\n",
      "done with 19377\n",
      "https://classic.wowhead.com/item=21665\n",
      "done with 21665\n",
      "https://classic.wowhead.com/item=21710\n",
      "done with 21710\n",
      "https://classic.wowhead.com/item=21680\n",
      "done with 21680\n",
      "https://classic.wowhead.com/item=21602\n",
      "done with 21602\n",
      "https://classic.wowhead.com/item=21672\n",
      "done with 21672\n",
      "https://classic.wowhead.com/item=21586\n",
      "done with 21586\n",
      "https://classic.wowhead.com/item=16450\n",
      "done with 16450\n",
      "https://classic.wowhead.com/item=21493\n",
      "done with 21493\n",
      "https://classic.wowhead.com/item=21205\n",
      "done with 21205\n",
      "https://classic.wowhead.com/item=19432\n",
      "done with 19432\n",
      "https://classic.wowhead.com/item=19406\n",
      "done with 19406\n",
      "https://classic.wowhead.com/item=21670\n",
      "done with 21670\n",
      "https://classic.wowhead.com/item=21268\n",
      "done with 21268\n",
      "https://classic.wowhead.com/item=13385\n",
      "done with 13385\n",
      "https://classic.wowhead.com/item=23198\n",
      "done with 23198\n",
      "FeralDps-P6\n",
      "https://classic.wowhead.com/item=8345\n",
      "done with 8345\n",
      "https://classic.wowhead.com/item=19377\n",
      "done with 19377\n",
      "https://classic.wowhead.com/item=21665\n",
      "done with 21665\n",
      "https://classic.wowhead.com/item=21710\n",
      "done with 21710\n",
      "https://classic.wowhead.com/item=23226\n",
      "done with 23226\n",
      "https://classic.wowhead.com/item=21602\n",
      "done with 21602\n",
      "https://classic.wowhead.com/item=21672\n",
      "done with 21672\n",
      "https://classic.wowhead.com/item=21586\n",
      "done with 21586\n",
      "https://classic.wowhead.com/item=23071\n",
      "done with 23071\n",
      "https://classic.wowhead.com/item=21493\n",
      "done with 21493\n",
      "https://classic.wowhead.com/item=23038\n",
      "done with 23038\n",
      "https://classic.wowhead.com/item=19432\n",
      "done with 19432\n",
      "https://classic.wowhead.com/item=23041\n",
      "done with 23041\n",
      "https://classic.wowhead.com/item=22954\n",
      "done with 22954\n",
      "https://classic.wowhead.com/item=22988\n",
      "done with 22988\n",
      "https://classic.wowhead.com/item=13385\n",
      "done with 13385\n",
      "https://classic.wowhead.com/item=23198\n",
      "done with 23198\n",
      "Restoration-P5\n",
      "https://classic.wowhead.com/item=20628\n"
     ]
    },
    {
     "output_type": "error",
     "ename": "KeyboardInterrupt",
     "evalue": "",
     "traceback": [
      "\u001b[1;31m---------------------------------------------------------------------------\u001b[0m",
      "\u001b[1;31mKeyboardInterrupt\u001b[0m                         Traceback (most recent call last)",
      "\u001b[1;32m<ipython-input-29-4fce822c97f0>\u001b[0m in \u001b[0;36m<module>\u001b[1;34m\u001b[0m\n\u001b[0;32m      6\u001b[0m         \u001b[0mprint\u001b[0m\u001b[1;33m(\u001b[0m\u001b[0ml\u001b[0m\u001b[1;33m)\u001b[0m\u001b[1;33m\u001b[0m\u001b[1;33m\u001b[0m\u001b[0m\n\u001b[0;32m      7\u001b[0m         \u001b[0mnd\u001b[0m\u001b[1;33m[\u001b[0m\u001b[0mk\u001b[0m\u001b[1;33m]\u001b[0m\u001b[1;33m[\u001b[0m\u001b[0ml\u001b[0m\u001b[1;33m]\u001b[0m \u001b[1;33m=\u001b[0m \u001b[1;33m{\u001b[0m\u001b[1;33m}\u001b[0m\u001b[1;33m\u001b[0m\u001b[1;33m\u001b[0m\u001b[0m\n\u001b[1;32m----> 8\u001b[1;33m         \u001b[0mnd\u001b[0m\u001b[1;33m[\u001b[0m\u001b[0mk\u001b[0m\u001b[1;33m]\u001b[0m\u001b[1;33m[\u001b[0m\u001b[0ml\u001b[0m\u001b[1;33m]\u001b[0m\u001b[1;33m[\u001b[0m\u001b[1;34m\"Head\"\u001b[0m\u001b[1;33m]\u001b[0m \u001b[1;33m=\u001b[0m \u001b[0mGetItemFromOldDataSlot\u001b[0m\u001b[1;33m(\u001b[0m\u001b[0md\u001b[0m\u001b[1;33m[\u001b[0m\u001b[0mk\u001b[0m\u001b[1;33m]\u001b[0m\u001b[1;33m[\u001b[0m\u001b[0ml\u001b[0m\u001b[1;33m]\u001b[0m\u001b[1;33m[\u001b[0m\u001b[1;34m\"Head\"\u001b[0m\u001b[1;33m]\u001b[0m\u001b[1;33m[\u001b[0m\u001b[1;34m\"itemID\"\u001b[0m\u001b[1;33m]\u001b[0m\u001b[1;33m)\u001b[0m\u001b[1;33m\u001b[0m\u001b[1;33m\u001b[0m\u001b[0m\n\u001b[0m\u001b[0;32m      9\u001b[0m         \u001b[0mnd\u001b[0m\u001b[1;33m[\u001b[0m\u001b[0mk\u001b[0m\u001b[1;33m]\u001b[0m\u001b[1;33m[\u001b[0m\u001b[0ml\u001b[0m\u001b[1;33m]\u001b[0m\u001b[1;33m[\u001b[0m\u001b[1;34m\"Neck\"\u001b[0m\u001b[1;33m]\u001b[0m \u001b[1;33m=\u001b[0m \u001b[0mGetItemFromOldDataSlot\u001b[0m\u001b[1;33m(\u001b[0m\u001b[0md\u001b[0m\u001b[1;33m[\u001b[0m\u001b[0mk\u001b[0m\u001b[1;33m]\u001b[0m\u001b[1;33m[\u001b[0m\u001b[0ml\u001b[0m\u001b[1;33m]\u001b[0m\u001b[1;33m[\u001b[0m\u001b[1;34m\"Neck\"\u001b[0m\u001b[1;33m]\u001b[0m\u001b[1;33m[\u001b[0m\u001b[1;34m\"itemID\"\u001b[0m\u001b[1;33m]\u001b[0m\u001b[1;33m)\u001b[0m\u001b[1;33m\u001b[0m\u001b[1;33m\u001b[0m\u001b[0m\n\u001b[0;32m     10\u001b[0m         \u001b[0mnd\u001b[0m\u001b[1;33m[\u001b[0m\u001b[0mk\u001b[0m\u001b[1;33m]\u001b[0m\u001b[1;33m[\u001b[0m\u001b[0ml\u001b[0m\u001b[1;33m]\u001b[0m\u001b[1;33m[\u001b[0m\u001b[1;34m\"Shoulder\"\u001b[0m\u001b[1;33m]\u001b[0m \u001b[1;33m=\u001b[0m \u001b[0mGetItemFromOldDataSlot\u001b[0m\u001b[1;33m(\u001b[0m\u001b[0md\u001b[0m\u001b[1;33m[\u001b[0m\u001b[0mk\u001b[0m\u001b[1;33m]\u001b[0m\u001b[1;33m[\u001b[0m\u001b[0ml\u001b[0m\u001b[1;33m]\u001b[0m\u001b[1;33m[\u001b[0m\u001b[1;34m\"Shoulder\"\u001b[0m\u001b[1;33m]\u001b[0m\u001b[1;33m[\u001b[0m\u001b[1;34m\"itemID\"\u001b[0m\u001b[1;33m]\u001b[0m\u001b[1;33m)\u001b[0m\u001b[1;33m\u001b[0m\u001b[1;33m\u001b[0m\u001b[0m\n",
      "\u001b[1;32m<ipython-input-28-e35155d3d08f>\u001b[0m in \u001b[0;36mGetItemFromOldDataSlot\u001b[1;34m(itemID)\u001b[0m\n\u001b[0;32m      5\u001b[0m     \u001b[0murl\u001b[0m \u001b[1;33m=\u001b[0m \u001b[1;34m\"https://classic.wowhead.com/item=\"\u001b[0m \u001b[1;33m+\u001b[0m \u001b[0mstr\u001b[0m\u001b[1;33m(\u001b[0m\u001b[0mitemID\u001b[0m\u001b[1;33m)\u001b[0m\u001b[1;33m\u001b[0m\u001b[1;33m\u001b[0m\u001b[0m\n\u001b[0;32m      6\u001b[0m     \u001b[0mprint\u001b[0m\u001b[1;33m(\u001b[0m\u001b[0murl\u001b[0m\u001b[1;33m)\u001b[0m\u001b[1;33m\u001b[0m\u001b[1;33m\u001b[0m\u001b[0m\n\u001b[1;32m----> 7\u001b[1;33m     \u001b[0mdriver\u001b[0m\u001b[1;33m.\u001b[0m\u001b[0mget\u001b[0m\u001b[1;33m(\u001b[0m\u001b[0murl\u001b[0m\u001b[1;33m)\u001b[0m\u001b[1;33m\u001b[0m\u001b[1;33m\u001b[0m\u001b[0m\n\u001b[0m\u001b[0;32m      8\u001b[0m     \u001b[0mpage\u001b[0m \u001b[1;33m=\u001b[0m \u001b[0mdriver\u001b[0m\u001b[1;33m.\u001b[0m\u001b[0mpage_source\u001b[0m\u001b[1;33m\u001b[0m\u001b[1;33m\u001b[0m\u001b[0m\n\u001b[0;32m      9\u001b[0m \u001b[1;33m\u001b[0m\u001b[0m\n",
      "\u001b[1;32m~\\AppData\\Roaming\\Python\\Python38\\site-packages\\selenium\\webdriver\\remote\\webdriver.py\u001b[0m in \u001b[0;36mget\u001b[1;34m(self, url)\u001b[0m\n\u001b[0;32m    331\u001b[0m         \u001b[0mLoads\u001b[0m \u001b[0ma\u001b[0m \u001b[0mweb\u001b[0m \u001b[0mpage\u001b[0m \u001b[1;32min\u001b[0m \u001b[0mthe\u001b[0m \u001b[0mcurrent\u001b[0m \u001b[0mbrowser\u001b[0m \u001b[0msession\u001b[0m\u001b[1;33m.\u001b[0m\u001b[1;33m\u001b[0m\u001b[1;33m\u001b[0m\u001b[0m\n\u001b[0;32m    332\u001b[0m         \"\"\"\n\u001b[1;32m--> 333\u001b[1;33m         \u001b[0mself\u001b[0m\u001b[1;33m.\u001b[0m\u001b[0mexecute\u001b[0m\u001b[1;33m(\u001b[0m\u001b[0mCommand\u001b[0m\u001b[1;33m.\u001b[0m\u001b[0mGET\u001b[0m\u001b[1;33m,\u001b[0m \u001b[1;33m{\u001b[0m\u001b[1;34m'url'\u001b[0m\u001b[1;33m:\u001b[0m \u001b[0murl\u001b[0m\u001b[1;33m}\u001b[0m\u001b[1;33m)\u001b[0m\u001b[1;33m\u001b[0m\u001b[1;33m\u001b[0m\u001b[0m\n\u001b[0m\u001b[0;32m    334\u001b[0m \u001b[1;33m\u001b[0m\u001b[0m\n\u001b[0;32m    335\u001b[0m     \u001b[1;33m@\u001b[0m\u001b[0mproperty\u001b[0m\u001b[1;33m\u001b[0m\u001b[1;33m\u001b[0m\u001b[0m\n",
      "\u001b[1;32m~\\AppData\\Roaming\\Python\\Python38\\site-packages\\selenium\\webdriver\\remote\\webdriver.py\u001b[0m in \u001b[0;36mexecute\u001b[1;34m(self, driver_command, params)\u001b[0m\n\u001b[0;32m    317\u001b[0m \u001b[1;33m\u001b[0m\u001b[0m\n\u001b[0;32m    318\u001b[0m         \u001b[0mparams\u001b[0m \u001b[1;33m=\u001b[0m \u001b[0mself\u001b[0m\u001b[1;33m.\u001b[0m\u001b[0m_wrap_value\u001b[0m\u001b[1;33m(\u001b[0m\u001b[0mparams\u001b[0m\u001b[1;33m)\u001b[0m\u001b[1;33m\u001b[0m\u001b[1;33m\u001b[0m\u001b[0m\n\u001b[1;32m--> 319\u001b[1;33m         \u001b[0mresponse\u001b[0m \u001b[1;33m=\u001b[0m \u001b[0mself\u001b[0m\u001b[1;33m.\u001b[0m\u001b[0mcommand_executor\u001b[0m\u001b[1;33m.\u001b[0m\u001b[0mexecute\u001b[0m\u001b[1;33m(\u001b[0m\u001b[0mdriver_command\u001b[0m\u001b[1;33m,\u001b[0m \u001b[0mparams\u001b[0m\u001b[1;33m)\u001b[0m\u001b[1;33m\u001b[0m\u001b[1;33m\u001b[0m\u001b[0m\n\u001b[0m\u001b[0;32m    320\u001b[0m         \u001b[1;32mif\u001b[0m \u001b[0mresponse\u001b[0m\u001b[1;33m:\u001b[0m\u001b[1;33m\u001b[0m\u001b[1;33m\u001b[0m\u001b[0m\n\u001b[0;32m    321\u001b[0m             \u001b[0mself\u001b[0m\u001b[1;33m.\u001b[0m\u001b[0merror_handler\u001b[0m\u001b[1;33m.\u001b[0m\u001b[0mcheck_response\u001b[0m\u001b[1;33m(\u001b[0m\u001b[0mresponse\u001b[0m\u001b[1;33m)\u001b[0m\u001b[1;33m\u001b[0m\u001b[1;33m\u001b[0m\u001b[0m\n",
      "\u001b[1;32m~\\AppData\\Roaming\\Python\\Python38\\site-packages\\selenium\\webdriver\\remote\\remote_connection.py\u001b[0m in \u001b[0;36mexecute\u001b[1;34m(self, command, params)\u001b[0m\n\u001b[0;32m    372\u001b[0m         \u001b[0mdata\u001b[0m \u001b[1;33m=\u001b[0m \u001b[0mutils\u001b[0m\u001b[1;33m.\u001b[0m\u001b[0mdump_json\u001b[0m\u001b[1;33m(\u001b[0m\u001b[0mparams\u001b[0m\u001b[1;33m)\u001b[0m\u001b[1;33m\u001b[0m\u001b[1;33m\u001b[0m\u001b[0m\n\u001b[0;32m    373\u001b[0m         \u001b[0murl\u001b[0m \u001b[1;33m=\u001b[0m \u001b[1;34m'%s%s'\u001b[0m \u001b[1;33m%\u001b[0m \u001b[1;33m(\u001b[0m\u001b[0mself\u001b[0m\u001b[1;33m.\u001b[0m\u001b[0m_url\u001b[0m\u001b[1;33m,\u001b[0m \u001b[0mpath\u001b[0m\u001b[1;33m)\u001b[0m\u001b[1;33m\u001b[0m\u001b[1;33m\u001b[0m\u001b[0m\n\u001b[1;32m--> 374\u001b[1;33m         \u001b[1;32mreturn\u001b[0m \u001b[0mself\u001b[0m\u001b[1;33m.\u001b[0m\u001b[0m_request\u001b[0m\u001b[1;33m(\u001b[0m\u001b[0mcommand_info\u001b[0m\u001b[1;33m[\u001b[0m\u001b[1;36m0\u001b[0m\u001b[1;33m]\u001b[0m\u001b[1;33m,\u001b[0m \u001b[0murl\u001b[0m\u001b[1;33m,\u001b[0m \u001b[0mbody\u001b[0m\u001b[1;33m=\u001b[0m\u001b[0mdata\u001b[0m\u001b[1;33m)\u001b[0m\u001b[1;33m\u001b[0m\u001b[1;33m\u001b[0m\u001b[0m\n\u001b[0m\u001b[0;32m    375\u001b[0m \u001b[1;33m\u001b[0m\u001b[0m\n\u001b[0;32m    376\u001b[0m     \u001b[1;32mdef\u001b[0m \u001b[0m_request\u001b[0m\u001b[1;33m(\u001b[0m\u001b[0mself\u001b[0m\u001b[1;33m,\u001b[0m \u001b[0mmethod\u001b[0m\u001b[1;33m,\u001b[0m \u001b[0murl\u001b[0m\u001b[1;33m,\u001b[0m \u001b[0mbody\u001b[0m\u001b[1;33m=\u001b[0m\u001b[1;32mNone\u001b[0m\u001b[1;33m)\u001b[0m\u001b[1;33m:\u001b[0m\u001b[1;33m\u001b[0m\u001b[1;33m\u001b[0m\u001b[0m\n",
      "\u001b[1;32m~\\AppData\\Roaming\\Python\\Python38\\site-packages\\selenium\\webdriver\\remote\\remote_connection.py\u001b[0m in \u001b[0;36m_request\u001b[1;34m(self, method, url, body)\u001b[0m\n\u001b[0;32m    395\u001b[0m \u001b[1;33m\u001b[0m\u001b[0m\n\u001b[0;32m    396\u001b[0m         \u001b[1;32mif\u001b[0m \u001b[0mself\u001b[0m\u001b[1;33m.\u001b[0m\u001b[0mkeep_alive\u001b[0m\u001b[1;33m:\u001b[0m\u001b[1;33m\u001b[0m\u001b[1;33m\u001b[0m\u001b[0m\n\u001b[1;32m--> 397\u001b[1;33m             \u001b[0mresp\u001b[0m \u001b[1;33m=\u001b[0m \u001b[0mself\u001b[0m\u001b[1;33m.\u001b[0m\u001b[0m_conn\u001b[0m\u001b[1;33m.\u001b[0m\u001b[0mrequest\u001b[0m\u001b[1;33m(\u001b[0m\u001b[0mmethod\u001b[0m\u001b[1;33m,\u001b[0m \u001b[0murl\u001b[0m\u001b[1;33m,\u001b[0m \u001b[0mbody\u001b[0m\u001b[1;33m=\u001b[0m\u001b[0mbody\u001b[0m\u001b[1;33m,\u001b[0m \u001b[0mheaders\u001b[0m\u001b[1;33m=\u001b[0m\u001b[0mheaders\u001b[0m\u001b[1;33m)\u001b[0m\u001b[1;33m\u001b[0m\u001b[1;33m\u001b[0m\u001b[0m\n\u001b[0m\u001b[0;32m    398\u001b[0m \u001b[1;33m\u001b[0m\u001b[0m\n\u001b[0;32m    399\u001b[0m             \u001b[0mstatuscode\u001b[0m \u001b[1;33m=\u001b[0m \u001b[0mresp\u001b[0m\u001b[1;33m.\u001b[0m\u001b[0mstatus\u001b[0m\u001b[1;33m\u001b[0m\u001b[1;33m\u001b[0m\u001b[0m\n",
      "\u001b[1;32m~\\AppData\\Roaming\\Python\\Python38\\site-packages\\urllib3\\request.py\u001b[0m in \u001b[0;36mrequest\u001b[1;34m(self, method, url, fields, headers, **urlopen_kw)\u001b[0m\n\u001b[0;32m     77\u001b[0m             )\n\u001b[0;32m     78\u001b[0m         \u001b[1;32melse\u001b[0m\u001b[1;33m:\u001b[0m\u001b[1;33m\u001b[0m\u001b[1;33m\u001b[0m\u001b[0m\n\u001b[1;32m---> 79\u001b[1;33m             return self.request_encode_body(\n\u001b[0m\u001b[0;32m     80\u001b[0m                 \u001b[0mmethod\u001b[0m\u001b[1;33m,\u001b[0m \u001b[0murl\u001b[0m\u001b[1;33m,\u001b[0m \u001b[0mfields\u001b[0m\u001b[1;33m=\u001b[0m\u001b[0mfields\u001b[0m\u001b[1;33m,\u001b[0m \u001b[0mheaders\u001b[0m\u001b[1;33m=\u001b[0m\u001b[0mheaders\u001b[0m\u001b[1;33m,\u001b[0m \u001b[1;33m**\u001b[0m\u001b[0murlopen_kw\u001b[0m\u001b[1;33m\u001b[0m\u001b[1;33m\u001b[0m\u001b[0m\n\u001b[0;32m     81\u001b[0m             )\n",
      "\u001b[1;32m~\\AppData\\Roaming\\Python\\Python38\\site-packages\\urllib3\\request.py\u001b[0m in \u001b[0;36mrequest_encode_body\u001b[1;34m(self, method, url, fields, headers, encode_multipart, multipart_boundary, **urlopen_kw)\u001b[0m\n\u001b[0;32m    169\u001b[0m         \u001b[0mextra_kw\u001b[0m\u001b[1;33m.\u001b[0m\u001b[0mupdate\u001b[0m\u001b[1;33m(\u001b[0m\u001b[0murlopen_kw\u001b[0m\u001b[1;33m)\u001b[0m\u001b[1;33m\u001b[0m\u001b[1;33m\u001b[0m\u001b[0m\n\u001b[0;32m    170\u001b[0m \u001b[1;33m\u001b[0m\u001b[0m\n\u001b[1;32m--> 171\u001b[1;33m         \u001b[1;32mreturn\u001b[0m \u001b[0mself\u001b[0m\u001b[1;33m.\u001b[0m\u001b[0murlopen\u001b[0m\u001b[1;33m(\u001b[0m\u001b[0mmethod\u001b[0m\u001b[1;33m,\u001b[0m \u001b[0murl\u001b[0m\u001b[1;33m,\u001b[0m \u001b[1;33m**\u001b[0m\u001b[0mextra_kw\u001b[0m\u001b[1;33m)\u001b[0m\u001b[1;33m\u001b[0m\u001b[1;33m\u001b[0m\u001b[0m\n\u001b[0m",
      "\u001b[1;32m~\\AppData\\Roaming\\Python\\Python38\\site-packages\\urllib3\\poolmanager.py\u001b[0m in \u001b[0;36murlopen\u001b[1;34m(self, method, url, redirect, **kw)\u001b[0m\n\u001b[0;32m    334\u001b[0m             \u001b[0mresponse\u001b[0m \u001b[1;33m=\u001b[0m \u001b[0mconn\u001b[0m\u001b[1;33m.\u001b[0m\u001b[0murlopen\u001b[0m\u001b[1;33m(\u001b[0m\u001b[0mmethod\u001b[0m\u001b[1;33m,\u001b[0m \u001b[0murl\u001b[0m\u001b[1;33m,\u001b[0m \u001b[1;33m**\u001b[0m\u001b[0mkw\u001b[0m\u001b[1;33m)\u001b[0m\u001b[1;33m\u001b[0m\u001b[1;33m\u001b[0m\u001b[0m\n\u001b[0;32m    335\u001b[0m         \u001b[1;32melse\u001b[0m\u001b[1;33m:\u001b[0m\u001b[1;33m\u001b[0m\u001b[1;33m\u001b[0m\u001b[0m\n\u001b[1;32m--> 336\u001b[1;33m             \u001b[0mresponse\u001b[0m \u001b[1;33m=\u001b[0m \u001b[0mconn\u001b[0m\u001b[1;33m.\u001b[0m\u001b[0murlopen\u001b[0m\u001b[1;33m(\u001b[0m\u001b[0mmethod\u001b[0m\u001b[1;33m,\u001b[0m \u001b[0mu\u001b[0m\u001b[1;33m.\u001b[0m\u001b[0mrequest_uri\u001b[0m\u001b[1;33m,\u001b[0m \u001b[1;33m**\u001b[0m\u001b[0mkw\u001b[0m\u001b[1;33m)\u001b[0m\u001b[1;33m\u001b[0m\u001b[1;33m\u001b[0m\u001b[0m\n\u001b[0m\u001b[0;32m    337\u001b[0m \u001b[1;33m\u001b[0m\u001b[0m\n\u001b[0;32m    338\u001b[0m         \u001b[0mredirect_location\u001b[0m \u001b[1;33m=\u001b[0m \u001b[0mredirect\u001b[0m \u001b[1;32mand\u001b[0m \u001b[0mresponse\u001b[0m\u001b[1;33m.\u001b[0m\u001b[0mget_redirect_location\u001b[0m\u001b[1;33m(\u001b[0m\u001b[1;33m)\u001b[0m\u001b[1;33m\u001b[0m\u001b[1;33m\u001b[0m\u001b[0m\n",
      "\u001b[1;32m~\\AppData\\Roaming\\Python\\Python38\\site-packages\\urllib3\\connectionpool.py\u001b[0m in \u001b[0;36murlopen\u001b[1;34m(self, method, url, body, headers, retries, redirect, assert_same_host, timeout, pool_timeout, release_conn, chunked, body_pos, **response_kw)\u001b[0m\n\u001b[0;32m    668\u001b[0m \u001b[1;33m\u001b[0m\u001b[0m\n\u001b[0;32m    669\u001b[0m             \u001b[1;31m# Make the request on the httplib connection object.\u001b[0m\u001b[1;33m\u001b[0m\u001b[1;33m\u001b[0m\u001b[1;33m\u001b[0m\u001b[0m\n\u001b[1;32m--> 670\u001b[1;33m             httplib_response = self._make_request(\n\u001b[0m\u001b[0;32m    671\u001b[0m                 \u001b[0mconn\u001b[0m\u001b[1;33m,\u001b[0m\u001b[1;33m\u001b[0m\u001b[1;33m\u001b[0m\u001b[0m\n\u001b[0;32m    672\u001b[0m                 \u001b[0mmethod\u001b[0m\u001b[1;33m,\u001b[0m\u001b[1;33m\u001b[0m\u001b[1;33m\u001b[0m\u001b[0m\n",
      "\u001b[1;32m~\\AppData\\Roaming\\Python\\Python38\\site-packages\\urllib3\\connectionpool.py\u001b[0m in \u001b[0;36m_make_request\u001b[1;34m(self, conn, method, url, timeout, chunked, **httplib_request_kw)\u001b[0m\n\u001b[0;32m    424\u001b[0m                     \u001b[1;31m# Python 3 (including for exceptions like SystemExit).\u001b[0m\u001b[1;33m\u001b[0m\u001b[1;33m\u001b[0m\u001b[1;33m\u001b[0m\u001b[0m\n\u001b[0;32m    425\u001b[0m                     \u001b[1;31m# Otherwise it looks like a bug in the code.\u001b[0m\u001b[1;33m\u001b[0m\u001b[1;33m\u001b[0m\u001b[1;33m\u001b[0m\u001b[0m\n\u001b[1;32m--> 426\u001b[1;33m                     \u001b[0msix\u001b[0m\u001b[1;33m.\u001b[0m\u001b[0mraise_from\u001b[0m\u001b[1;33m(\u001b[0m\u001b[0me\u001b[0m\u001b[1;33m,\u001b[0m \u001b[1;32mNone\u001b[0m\u001b[1;33m)\u001b[0m\u001b[1;33m\u001b[0m\u001b[1;33m\u001b[0m\u001b[0m\n\u001b[0m\u001b[0;32m    427\u001b[0m         \u001b[1;32mexcept\u001b[0m \u001b[1;33m(\u001b[0m\u001b[0mSocketTimeout\u001b[0m\u001b[1;33m,\u001b[0m \u001b[0mBaseSSLError\u001b[0m\u001b[1;33m,\u001b[0m \u001b[0mSocketError\u001b[0m\u001b[1;33m)\u001b[0m \u001b[1;32mas\u001b[0m \u001b[0me\u001b[0m\u001b[1;33m:\u001b[0m\u001b[1;33m\u001b[0m\u001b[1;33m\u001b[0m\u001b[0m\n\u001b[0;32m    428\u001b[0m             \u001b[0mself\u001b[0m\u001b[1;33m.\u001b[0m\u001b[0m_raise_timeout\u001b[0m\u001b[1;33m(\u001b[0m\u001b[0merr\u001b[0m\u001b[1;33m=\u001b[0m\u001b[0me\u001b[0m\u001b[1;33m,\u001b[0m \u001b[0murl\u001b[0m\u001b[1;33m=\u001b[0m\u001b[0murl\u001b[0m\u001b[1;33m,\u001b[0m \u001b[0mtimeout_value\u001b[0m\u001b[1;33m=\u001b[0m\u001b[0mread_timeout\u001b[0m\u001b[1;33m)\u001b[0m\u001b[1;33m\u001b[0m\u001b[1;33m\u001b[0m\u001b[0m\n",
      "\u001b[1;32m~\\AppData\\Roaming\\Python\\Python38\\site-packages\\urllib3\\packages\\six.py\u001b[0m in \u001b[0;36mraise_from\u001b[1;34m(value, from_value)\u001b[0m\n",
      "\u001b[1;32m~\\AppData\\Roaming\\Python\\Python38\\site-packages\\urllib3\\connectionpool.py\u001b[0m in \u001b[0;36m_make_request\u001b[1;34m(self, conn, method, url, timeout, chunked, **httplib_request_kw)\u001b[0m\n\u001b[0;32m    419\u001b[0m                 \u001b[1;31m# Python 3\u001b[0m\u001b[1;33m\u001b[0m\u001b[1;33m\u001b[0m\u001b[1;33m\u001b[0m\u001b[0m\n\u001b[0;32m    420\u001b[0m                 \u001b[1;32mtry\u001b[0m\u001b[1;33m:\u001b[0m\u001b[1;33m\u001b[0m\u001b[1;33m\u001b[0m\u001b[0m\n\u001b[1;32m--> 421\u001b[1;33m                     \u001b[0mhttplib_response\u001b[0m \u001b[1;33m=\u001b[0m \u001b[0mconn\u001b[0m\u001b[1;33m.\u001b[0m\u001b[0mgetresponse\u001b[0m\u001b[1;33m(\u001b[0m\u001b[1;33m)\u001b[0m\u001b[1;33m\u001b[0m\u001b[1;33m\u001b[0m\u001b[0m\n\u001b[0m\u001b[0;32m    422\u001b[0m                 \u001b[1;32mexcept\u001b[0m \u001b[0mBaseException\u001b[0m \u001b[1;32mas\u001b[0m \u001b[0me\u001b[0m\u001b[1;33m:\u001b[0m\u001b[1;33m\u001b[0m\u001b[1;33m\u001b[0m\u001b[0m\n\u001b[0;32m    423\u001b[0m                     \u001b[1;31m# Remove the TypeError from the exception chain in\u001b[0m\u001b[1;33m\u001b[0m\u001b[1;33m\u001b[0m\u001b[1;33m\u001b[0m\u001b[0m\n",
      "\u001b[1;32mC:\\Python38\\lib\\http\\client.py\u001b[0m in \u001b[0;36mgetresponse\u001b[1;34m(self)\u001b[0m\n\u001b[0;32m   1345\u001b[0m         \u001b[1;32mtry\u001b[0m\u001b[1;33m:\u001b[0m\u001b[1;33m\u001b[0m\u001b[1;33m\u001b[0m\u001b[0m\n\u001b[0;32m   1346\u001b[0m             \u001b[1;32mtry\u001b[0m\u001b[1;33m:\u001b[0m\u001b[1;33m\u001b[0m\u001b[1;33m\u001b[0m\u001b[0m\n\u001b[1;32m-> 1347\u001b[1;33m                 \u001b[0mresponse\u001b[0m\u001b[1;33m.\u001b[0m\u001b[0mbegin\u001b[0m\u001b[1;33m(\u001b[0m\u001b[1;33m)\u001b[0m\u001b[1;33m\u001b[0m\u001b[1;33m\u001b[0m\u001b[0m\n\u001b[0m\u001b[0;32m   1348\u001b[0m             \u001b[1;32mexcept\u001b[0m \u001b[0mConnectionError\u001b[0m\u001b[1;33m:\u001b[0m\u001b[1;33m\u001b[0m\u001b[1;33m\u001b[0m\u001b[0m\n\u001b[0;32m   1349\u001b[0m                 \u001b[0mself\u001b[0m\u001b[1;33m.\u001b[0m\u001b[0mclose\u001b[0m\u001b[1;33m(\u001b[0m\u001b[1;33m)\u001b[0m\u001b[1;33m\u001b[0m\u001b[1;33m\u001b[0m\u001b[0m\n",
      "\u001b[1;32mC:\\Python38\\lib\\http\\client.py\u001b[0m in \u001b[0;36mbegin\u001b[1;34m(self)\u001b[0m\n\u001b[0;32m    305\u001b[0m         \u001b[1;31m# read until we get a non-100 response\u001b[0m\u001b[1;33m\u001b[0m\u001b[1;33m\u001b[0m\u001b[1;33m\u001b[0m\u001b[0m\n\u001b[0;32m    306\u001b[0m         \u001b[1;32mwhile\u001b[0m \u001b[1;32mTrue\u001b[0m\u001b[1;33m:\u001b[0m\u001b[1;33m\u001b[0m\u001b[1;33m\u001b[0m\u001b[0m\n\u001b[1;32m--> 307\u001b[1;33m             \u001b[0mversion\u001b[0m\u001b[1;33m,\u001b[0m \u001b[0mstatus\u001b[0m\u001b[1;33m,\u001b[0m \u001b[0mreason\u001b[0m \u001b[1;33m=\u001b[0m \u001b[0mself\u001b[0m\u001b[1;33m.\u001b[0m\u001b[0m_read_status\u001b[0m\u001b[1;33m(\u001b[0m\u001b[1;33m)\u001b[0m\u001b[1;33m\u001b[0m\u001b[1;33m\u001b[0m\u001b[0m\n\u001b[0m\u001b[0;32m    308\u001b[0m             \u001b[1;32mif\u001b[0m \u001b[0mstatus\u001b[0m \u001b[1;33m!=\u001b[0m \u001b[0mCONTINUE\u001b[0m\u001b[1;33m:\u001b[0m\u001b[1;33m\u001b[0m\u001b[1;33m\u001b[0m\u001b[0m\n\u001b[0;32m    309\u001b[0m                 \u001b[1;32mbreak\u001b[0m\u001b[1;33m\u001b[0m\u001b[1;33m\u001b[0m\u001b[0m\n",
      "\u001b[1;32mC:\\Python38\\lib\\http\\client.py\u001b[0m in \u001b[0;36m_read_status\u001b[1;34m(self)\u001b[0m\n\u001b[0;32m    266\u001b[0m \u001b[1;33m\u001b[0m\u001b[0m\n\u001b[0;32m    267\u001b[0m     \u001b[1;32mdef\u001b[0m \u001b[0m_read_status\u001b[0m\u001b[1;33m(\u001b[0m\u001b[0mself\u001b[0m\u001b[1;33m)\u001b[0m\u001b[1;33m:\u001b[0m\u001b[1;33m\u001b[0m\u001b[1;33m\u001b[0m\u001b[0m\n\u001b[1;32m--> 268\u001b[1;33m         \u001b[0mline\u001b[0m \u001b[1;33m=\u001b[0m \u001b[0mstr\u001b[0m\u001b[1;33m(\u001b[0m\u001b[0mself\u001b[0m\u001b[1;33m.\u001b[0m\u001b[0mfp\u001b[0m\u001b[1;33m.\u001b[0m\u001b[0mreadline\u001b[0m\u001b[1;33m(\u001b[0m\u001b[0m_MAXLINE\u001b[0m \u001b[1;33m+\u001b[0m \u001b[1;36m1\u001b[0m\u001b[1;33m)\u001b[0m\u001b[1;33m,\u001b[0m \u001b[1;34m\"iso-8859-1\"\u001b[0m\u001b[1;33m)\u001b[0m\u001b[1;33m\u001b[0m\u001b[1;33m\u001b[0m\u001b[0m\n\u001b[0m\u001b[0;32m    269\u001b[0m         \u001b[1;32mif\u001b[0m \u001b[0mlen\u001b[0m\u001b[1;33m(\u001b[0m\u001b[0mline\u001b[0m\u001b[1;33m)\u001b[0m \u001b[1;33m>\u001b[0m \u001b[0m_MAXLINE\u001b[0m\u001b[1;33m:\u001b[0m\u001b[1;33m\u001b[0m\u001b[1;33m\u001b[0m\u001b[0m\n\u001b[0;32m    270\u001b[0m             \u001b[1;32mraise\u001b[0m \u001b[0mLineTooLong\u001b[0m\u001b[1;33m(\u001b[0m\u001b[1;34m\"status line\"\u001b[0m\u001b[1;33m)\u001b[0m\u001b[1;33m\u001b[0m\u001b[1;33m\u001b[0m\u001b[0m\n",
      "\u001b[1;32mC:\\Python38\\lib\\socket.py\u001b[0m in \u001b[0;36mreadinto\u001b[1;34m(self, b)\u001b[0m\n\u001b[0;32m    667\u001b[0m         \u001b[1;32mwhile\u001b[0m \u001b[1;32mTrue\u001b[0m\u001b[1;33m:\u001b[0m\u001b[1;33m\u001b[0m\u001b[1;33m\u001b[0m\u001b[0m\n\u001b[0;32m    668\u001b[0m             \u001b[1;32mtry\u001b[0m\u001b[1;33m:\u001b[0m\u001b[1;33m\u001b[0m\u001b[1;33m\u001b[0m\u001b[0m\n\u001b[1;32m--> 669\u001b[1;33m                 \u001b[1;32mreturn\u001b[0m \u001b[0mself\u001b[0m\u001b[1;33m.\u001b[0m\u001b[0m_sock\u001b[0m\u001b[1;33m.\u001b[0m\u001b[0mrecv_into\u001b[0m\u001b[1;33m(\u001b[0m\u001b[0mb\u001b[0m\u001b[1;33m)\u001b[0m\u001b[1;33m\u001b[0m\u001b[1;33m\u001b[0m\u001b[0m\n\u001b[0m\u001b[0;32m    670\u001b[0m             \u001b[1;32mexcept\u001b[0m \u001b[0mtimeout\u001b[0m\u001b[1;33m:\u001b[0m\u001b[1;33m\u001b[0m\u001b[1;33m\u001b[0m\u001b[0m\n\u001b[0;32m    671\u001b[0m                 \u001b[0mself\u001b[0m\u001b[1;33m.\u001b[0m\u001b[0m_timeout_occurred\u001b[0m \u001b[1;33m=\u001b[0m \u001b[1;32mTrue\u001b[0m\u001b[1;33m\u001b[0m\u001b[1;33m\u001b[0m\u001b[0m\n",
      "\u001b[1;31mKeyboardInterrupt\u001b[0m: "
     ]
    }
   ],
   "source": [
    "nd = {}\n",
    "for k, v in d.items():\n",
    "    print(k)\n",
    "    nd[k] = {}\n",
    "    for l, b in v.items():\n",
    "        print(l)\n",
    "        nd[k][l] = {}\n",
    "        nd[k][l][\"Head\"] = GetItemFromOldDataSlot(d[k][l][\"Head\"][\"itemID\"])\n",
    "        nd[k][l][\"Neck\"] = GetItemFromOldDataSlot(d[k][l][\"Neck\"][\"itemID\"])\n",
    "        nd[k][l][\"Shoulder\"] = GetItemFromOldDataSlot(d[k][l][\"Shoulder\"][\"itemID\"])\n",
    "        nd[k][l][\"Back\"] = GetItemFromOldDataSlot(d[k][l][\"Cloak\"][\"itemID\"])\n",
    "        nd[k][l][\"Chest\"] = GetItemFromOldDataSlot(d[k][l][\"Chest\"][\"itemID\"])\n",
    "        nd[k][l][\"Wrists\"] = GetItemFromOldDataSlot(d[k][l][\"Wrist\"][\"itemID\"])\n",
    "        nd[k][l][\"Hands\"] = GetItemFromOldDataSlot(d[k][l][\"Gloves\"][\"itemID\"])\n",
    "        nd[k][l][\"Waist\"] = GetItemFromOldDataSlot(d[k][l][\"Waist\"][\"itemID\"])\n",
    "        nd[k][l][\"Legs\"] = GetItemFromOldDataSlot(d[k][l][\"Legs\"][\"itemID\"])\n",
    "        nd[k][l][\"Feet\"] = GetItemFromOldDataSlot(d[k][l][\"Boots\"][\"itemID\"])\n",
    "        nd[k][l][\"Finger\"] = GetItemFromOldDataSlot(d[k][l][\"Ring1\"][\"itemID\"])\n",
    "        nd[k][l][\"RFinger\"] = GetItemFromOldDataSlot(d[k][l][\"Ring2\"][\"itemID\"])\n",
    "        nd[k][l][\"Trinket\"] = GetItemFromOldDataSlot(d[k][l][\"Trinket1\"][\"itemID\"])\n",
    "        nd[k][l][\"RTrinket\"] = GetItemFromOldDataSlot(d[k][l][\"Trinket2\"][\"itemID\"])\n",
    "        nd[k][l][\"MainHand\"] = GetItemFromOldDataSlot(d[k][l][\"MainHand\"][\"itemID\"])\n",
    "        nd[k][l][\"SecondaryHand\"] = GetItemFromOldDataSlot(d[k][l][\"OffHand\"][\"itemID\"])\n",
    "        nd[k][l][\"Relic\"] = GetItemFromOldDataSlot(d[k][l][\"Ranged\"][\"itemID\"])\n",
    "print(\"---Done with scrape---\")"
   ]
  },
  {
   "cell_type": "code",
   "execution_count": 22,
   "metadata": {
    "tags": [
     "outputPrepend"
    ]
   },
   "outputs": [
    {
     "output_type": "stream",
     "name": "stdout",
     "text": [
      "13\", \"Zone\": \"Naxxramas\"}}}}, \"Warrior\": {\"Fury-P5\": {\"Head\": {\"id\": 12640, \"Obtain\": {\"NpcID\": 0, \"NpcName\": \"\", \"Kill\": false, \"Quest\": false, \"QuestID\": 0, \"Recipe\": true, \"RecipeID\": \"16729\", \"DropChance\": 0, \"Zone\": \"\"}}, \"Neck\": {\"id\": 21664, \"Obtain\": {\"NpcID\": \"15510\", \"NpcName\": \"Fankriss the Unyielding\", \"Kill\": true, \"Quest\": false, \"QuestID\": 0, \"Recipe\": false, \"RecipeID\": 0, \"DropChance\": \"23\", \"Zone\": \"Ahn'Qiraj\"}}, \"Shoulder\": {\"id\": 21330, \"Obtain\": {\"NpcID\": 0, \"NpcName\": \"\", \"Kill\": false, \"Quest\": true, \"QuestID\": \"8544\", \"Recipe\": false, \"RecipeID\": 0, \"DropChance\": 0, \"Zone\": \"Ahn'Qiraj\"}}, \"Back\": {\"id\": 21701, \"Obtain\": {\"NpcID\": \"15263\", \"NpcName\": \"The Prophet Skeram\", \"Kill\": true, \"Quest\": false, \"QuestID\": 0, \"Recipe\": false, \"RecipeID\": 0, \"DropChance\": \"23\", \"Zone\": \"Ahn'Qiraj\"}}, \"Chest\": {\"id\": 21331, \"Obtain\": {\"NpcID\": 0, \"NpcName\": \"\", \"Kill\": false, \"Quest\": true, \"QuestID\": \"8562\", \"Recipe\": false, \"RecipeID\": 0, \"DropChance\": 0, \"Zone\": \"Ahn'Qiraj\"}}, \"Wrists\": {\"id\": 21618, \"Obtain\": {\"NpcID\": \"15509\", \"NpcName\": \"Princess Huhuran\", \"Kill\": true, \"Quest\": false, \"QuestID\": 0, \"Recipe\": false, \"RecipeID\": 0, \"DropChance\": \"25\", \"Zone\": \"Ahn'Qiraj\"}}, \"Hands\": {\"id\": 21581, \"Obtain\": {\"NpcID\": \"15727\", \"NpcName\": \"C'Thun\", \"Kill\": true, \"Quest\": false, \"QuestID\": 0, \"Recipe\": false, \"RecipeID\": 0, \"DropChance\": \"35\", \"Zone\": \"Ahn'Qiraj\"}}, \"Waist\": {\"id\": 19137, \"Obtain\": {\"NpcID\": \"11502\", \"NpcName\": \"Ragnaros\", \"Kill\": true, \"Quest\": false, \"QuestID\": 0, \"Recipe\": false, \"RecipeID\": 0, \"DropChance\": \"24\", \"Zone\": \"Molten Core\"}}, \"Legs\": {\"id\": 22385, \"Obtain\": {\"NpcID\": 0, \"NpcName\": \"\", \"Kill\": false, \"Quest\": false, \"QuestID\": 0, \"Recipe\": true, \"RecipeID\": \"27829\", \"DropChance\": 0, \"Zone\": \"\"}}, \"Boots\": {\"id\": 19387, \"Obtain\": {\"NpcID\": \"14020\", \"NpcName\": \"Chromaggus\", \"Kill\": true, \"Quest\": false, \"QuestID\": 0, \"Recipe\": false, \"RecipeID\": 0, \"DropChance\": \"36\", \"Zone\": \"Blackwing Lair\"}}, \"Finger\": {\"id\": 21677, \"Obtain\": {\"NpcID\": \"15299\", \"NpcName\": \"Viscidus\", \"Kill\": true, \"Quest\": false, \"QuestID\": 0, \"Recipe\": false, \"RecipeID\": 0, \"DropChance\": \"25\", \"Zone\": \"Ahn'Qiraj\"}}, \"RFinger\": {\"id\": 19384, \"Obtain\": {\"NpcID\": 0, \"NpcName\": \"\", \"Kill\": false, \"Quest\": true, \"QuestID\": \"7782\", \"Recipe\": false, \"RecipeID\": 0, \"DropChance\": 0, \"Zone\": \"Stormwind City\"}}, \"Trinket\": {\"id\": 19406, \"Obtain\": {\"NpcID\": \"14601\", \"NpcName\": \"Ebonroc\", \"Kill\": true, \"Quest\": false, \"QuestID\": 0, \"Recipe\": false, \"RecipeID\": 0, \"DropChance\": \"33\", \"Zone\": \"Blackwing Lair\"}}, \"RTrinket\": {\"id\": 21670, \"Obtain\": {\"NpcID\": \"15516\", \"NpcName\": \"Battleguard Sartura\", \"Kill\": true, \"Quest\": false, \"QuestID\": 0, \"Recipe\": false, \"RecipeID\": 0, \"DropChance\": \"20\", \"Zone\": \"Ahn'Qiraj\"}}, \"MainHand\": {\"id\": 21242, \"Obtain\": {\"NpcID\": 0, \"NpcName\": \"\", \"Kill\": false, \"Quest\": true, \"QuestID\": \"8789\", \"Recipe\": false, \"RecipeID\": 0, \"DropChance\": 0, \"Zone\": \"Ahn'Qiraj\"}}, \"SecondaryHand\": {\"id\": 19363, \"Obtain\": {\"NpcID\": \"11583\", \"NpcName\": \"Nefarian\", \"Kill\": true, \"Quest\": false, \"QuestID\": 0, \"Recipe\": false, \"RecipeID\": 0, \"DropChance\": \"14\", \"Zone\": \"Blackwing Lair\"}}, \"Relic\": {\"id\": 17069, \"Obtain\": {\"NpcID\": \"11982\", \"NpcName\": \"Magmadar\", \"Kill\": true, \"Quest\": false, \"QuestID\": 0, \"Recipe\": false, \"RecipeID\": 0, \"DropChance\": \"33\", \"Zone\": \"Molten Core\"}}}, \"Fury-P6\": {\"Head\": {\"id\": 12640, \"Obtain\": {\"NpcID\": 0, \"NpcName\": \"\", \"Kill\": false, \"Quest\": false, \"QuestID\": 0, \"Recipe\": true, \"RecipeID\": \"16729\", \"DropChance\": 0, \"Zone\": \"\"}}, \"Neck\": {\"id\": 23053, \"Obtain\": {\"NpcID\": \"15990\", \"NpcName\": \"Kel'Thuzad\", \"Kill\": true, \"Quest\": false, \"QuestID\": 0, \"Recipe\": false, \"RecipeID\": 0, \"DropChance\": \"22\", \"Zone\": \"Naxxramas\"}}, \"Shoulder\": {\"id\": 21330, \"Obtain\": {\"NpcID\": 0, \"NpcName\": \"\", \"Kill\": false, \"Quest\": true, \"QuestID\": \"8544\", \"Recipe\": false, \"RecipeID\": 0, \"DropChance\": 0, \"Zone\": \"Ahn'Qiraj\"}}, \"Back\": {\"id\": 23045, \"Obtain\": {\"NpcID\": \"15989\", \"NpcName\": \"Sapphiron\", \"Kill\": true, \"Quest\": false, \"QuestID\": 0, \"Recipe\": false, \"RecipeID\": 0, \"DropChance\": \"29\", \"Zone\": \"Naxxramas\"}}, \"Chest\": {\"id\": 23000, \"Obtain\": {\"NpcID\": \"15928\", \"NpcName\": \"Thaddius\", \"Kill\": true, \"Quest\": false, \"QuestID\": 0, \"Recipe\": false, \"RecipeID\": 0, \"DropChance\": \"10\", \"Zone\": \"Naxxramas\"}}, \"Wrists\": {\"id\": 22936, \"Obtain\": {\"NpcID\": \"15956\", \"NpcName\": \"Anub'Rekhan\", \"Kill\": true, \"Quest\": false, \"QuestID\": 0, \"Recipe\": false, \"RecipeID\": 0, \"DropChance\": \"15\", \"Zone\": \"Naxxramas\"}}, \"Hands\": {\"id\": 21581, \"Obtain\": {\"NpcID\": \"15727\", \"NpcName\": \"C'Thun\", \"Kill\": true, \"Quest\": false, \"QuestID\": 0, \"Recipe\": false, \"RecipeID\": 0, \"DropChance\": \"35\", \"Zone\": \"Ahn'Qiraj\"}}, \"Waist\": {\"id\": 23219, \"Obtain\": {\"NpcID\": \"16061\", \"NpcName\": \"Instructor Razuvious\", \"Kill\": true, \"Quest\": false, \"QuestID\": 0, \"Recipe\": false, \"RecipeID\": 0, \"DropChance\": \"12\", \"Zone\": \"Naxxramas\"}}, \"Legs\": {\"id\": 23068, \"Obtain\": {\"NpcID\": \"15936\", \"NpcName\": \"Heigan the Unclean\", \"Kill\": true, \"Quest\": false, \"QuestID\": 0, \"Recipe\": false, \"RecipeID\": 0, \"DropChance\": \"26\", \"Zone\": \"Naxxramas\"}}, \"Boots\": {\"id\": 19387, \"Obtain\": {\"NpcID\": \"14020\", \"NpcName\": \"Chromaggus\", \"Kill\": true, \"Quest\": false, \"QuestID\": 0, \"Recipe\": false, \"RecipeID\": 0, \"DropChance\": \"36\", \"Zone\": \"Blackwing Lair\"}}, \"Finger\": {\"id\": 23038, \"Obtain\": {\"NpcID\": \"16011\", \"NpcName\": \"Loatheb\", \"Kill\": true, \"Quest\": false, \"QuestID\": 0, \"Recipe\": false, \"RecipeID\": 0, \"DropChance\": \"12\", \"Zone\": \"Naxxramas\"}}, \"RFinger\": {\"id\": 21677, \"Obtain\": {\"NpcID\": \"15299\", \"NpcName\": \"Viscidus\", \"Kill\": true, \"Quest\": false, \"QuestID\": 0, \"Recipe\": false, \"RecipeID\": 0, \"DropChance\": \"25\", \"Zone\": \"Ahn'Qiraj\"}}, \"Trinket\": {\"id\": 19406, \"Obtain\": {\"NpcID\": \"14601\", \"NpcName\": \"Ebonroc\", \"Kill\": true, \"Quest\": false, \"QuestID\": 0, \"Recipe\": false, \"RecipeID\": 0, \"DropChance\": \"33\", \"Zone\": \"Blackwing Lair\"}}, \"RTrinket\": {\"id\": 22954, \"Obtain\": {\"NpcID\": \"15952\", \"NpcName\": \"Maexxna\", \"Kill\": true, \"Quest\": false, \"QuestID\": 0, \"Recipe\": false, \"RecipeID\": 0, \"DropChance\": \"22\", \"Zone\": \"Naxxramas\"}}, \"MainHand\": {\"id\": 23054, \"Obtain\": {\"NpcID\": \"15990\", \"NpcName\": \"Kel'Thuzad\", \"Kill\": true, \"Quest\": false, \"QuestID\": 0, \"Recipe\": false, \"RecipeID\": 0, \"DropChance\": \"9\", \"Zone\": \"Naxxramas\"}}, \"SecondaryHand\": {\"id\": 23577, \"Obtain\": {\"NpcID\": 0, \"NpcName\": \"\", \"Kill\": false, \"Quest\": false, \"QuestID\": 0, \"Recipe\": false, \"RecipeID\": 0, \"DropChance\": 0, \"Zone\": \"\"}}, \"Relic\": {\"id\": 22811, \"Obtain\": {\"NpcID\": 0, \"NpcName\": \"\", \"Kill\": false, \"Quest\": false, \"QuestID\": 0, \"Recipe\": false, \"RecipeID\": 0, \"DropChance\": 0, \"Zone\": \"\"}}}, \"Protection-P5\": {\"Head\": {\"id\": 21329, \"Obtain\": {\"NpcID\": 0, \"NpcName\": \"\", \"Kill\": false, \"Quest\": true, \"QuestID\": \"8561\", \"Recipe\": false, \"RecipeID\": 0, \"DropChance\": 0, \"Zone\": \"Ahn'Qiraj\"}}, \"Neck\": {\"id\": 22732, \"Obtain\": {\"NpcID\": \"15727\", \"NpcName\": \"C'Thun\", \"Kill\": true, \"Quest\": false, \"QuestID\": 0, \"Recipe\": false, \"RecipeID\": 0, \"DropChance\": \"31\", \"Zone\": \"Ahn'Qiraj\"}}, \"Shoulder\": {\"id\": 21330, \"Obtain\": {\"NpcID\": 0, \"NpcName\": \"\", \"Kill\": false, \"Quest\": true, \"QuestID\": \"8544\", \"Recipe\": false, \"RecipeID\": 0, \"DropChance\": 0, \"Zone\": \"Ahn'Qiraj\"}}, \"Back\": {\"id\": 21710, \"Obtain\": {\"NpcID\": 0, \"NpcName\": \"\", \"Kill\": false, \"Quest\": true, \"QuestID\": \"8802\", \"Recipe\": false, \"RecipeID\": 0, \"DropChance\": 0, \"Zone\": \"Ahn'Qiraj\"}}, \"Chest\": {\"id\": 21331, \"Obtain\": {\"NpcID\": 0, \"NpcName\": \"\", \"Kill\": false, \"Quest\": true, \"QuestID\": \"8562\", \"Recipe\": false, \"RecipeID\": 0, \"DropChance\": 0, \"Zone\": \"Ahn'Qiraj\"}}, \"Wrists\": {\"id\": 21457, \"Obtain\": {\"NpcID\": \"15339\", \"NpcName\": \"Ossirian the Unscarred\", \"Kill\": true, \"Quest\": false, \"QuestID\": 0, \"Recipe\": false, \"RecipeID\": 0, \"DropChance\": \"27\", \"Zone\": \"Ruins of Ahn'Qiraj\"}}, \"Hands\": {\"id\": 21674, \"Obtain\": {\"NpcID\": \"15516\", \"NpcName\": \"Battleguard Sartura\", \"Kill\": true, \"Quest\": false, \"QuestID\": 0, \"Recipe\": false, \"RecipeID\": 0, \"DropChance\": \"22\", \"Zone\": \"Ahn'Qiraj\"}}, \"Waist\": {\"id\": 21598, \"Obtain\": {\"NpcID\": \"15276\", \"NpcName\": \"Emperor Vek'lor\", \"Kill\": true, \"Quest\": false, \"QuestID\": 0, \"Recipe\": false, \"RecipeID\": 0, \"DropChance\": \"25\", \"Zone\": \"Ahn'Qiraj\"}}, \"Legs\": {\"id\": 21332, \"Obtain\": {\"NpcID\": 0, \"NpcName\": \"\", \"Kill\": false, \"Quest\": true, \"QuestID\": \"8560\", \"Recipe\": false, \"RecipeID\": 0, \"DropChance\": 0, \"Zone\": \"Ahn'Qiraj\"}}, \"Boots\": {\"id\": 19387, \"Obtain\": {\"NpcID\": \"14020\", \"NpcName\": \"Chromaggus\", \"Kill\": true, \"Quest\": false, \"QuestID\": 0, \"Recipe\": false, \"RecipeID\": 0, \"DropChance\": \"36\", \"Zone\": \"Blackwing Lair\"}}, \"Finger\": {\"id\": 21205, \"Obtain\": {\"NpcID\": 0, \"NpcName\": \"\", \"Kill\": false, \"Quest\": false, \"QuestID\": 0, \"Recipe\": true, \"RecipeID\": \"25931\", \"DropChance\": 0, \"Zone\": \"\"}}, \"RFinger\": {\"id\": 17063, \"Obtain\": {\"NpcID\": \"11502\", \"NpcName\": \"Ragnaros\", \"Kill\": true, \"Quest\": false, \"QuestID\": 0, \"Recipe\": false, \"RecipeID\": 0, \"DropChance\": \"27\", \"Zone\": \"Molten Core\"}}, \"Trinket\": {\"id\": 19341, \"Obtain\": {\"NpcID\": \"12017\", \"NpcName\": \"Broodlord Lashlayer\", \"Kill\": true, \"Quest\": false, \"QuestID\": 0, \"Recipe\": false, \"RecipeID\": 0, \"DropChance\": \"29\", \"Zone\": \"Blackwing Lair\"}}, \"RTrinket\": {\"id\": 19431, \"Obtain\": {\"NpcID\": \"11981\", \"NpcName\": \"Flamegor\", \"Kill\": true, \"Quest\": false, \"QuestID\": 0, \"Recipe\": false, \"RecipeID\": 0, \"DropChance\": \"32\", \"Zone\": \"Blackwing Lair\"}}, \"MainHand\": {\"id\": 21126, \"Obtain\": {\"NpcID\": \"15727\", \"NpcName\": \"C'Thun\", \"Kill\": true, \"Quest\": false, \"QuestID\": 0, \"Recipe\": false, \"RecipeID\": 0, \"DropChance\": \"11\", \"Zone\": \"Ahn'Qiraj\"}}, \"SecondaryHand\": {\"id\": 21269, \"Obtain\": {\"NpcID\": 0, \"NpcName\": \"\", \"Kill\": false, \"Quest\": true, \"QuestID\": \"8789\", \"Recipe\": false, \"RecipeID\": 0, \"DropChance\": 0, \"Zone\": \"Ahn'Qiraj\"}}, \"Relic\": {\"id\": 21459, \"Obtain\": {\"NpcID\": \"15339\", \"NpcName\": \"Ossirian the Unscarred\", \"Kill\": true, \"Quest\": false, \"QuestID\": 0, \"Recipe\": false, \"RecipeID\": 0, \"DropChance\": \"15\", \"Zone\": \"Ruins of Ahn'Qiraj\"}}}, \"Protection-P6\": {\"Head\": {\"id\": 22418, \"Obtain\": {\"NpcID\": 0, \"NpcName\": \"\", \"Kill\": false, \"Quest\": true, \"QuestID\": \"9037\", \"Recipe\": false, \"RecipeID\": 0, \"DropChance\": 0, \"Zone\": \"Naxxramas\"}}, \"Neck\": {\"id\": 22732, \"Obtain\": {\"NpcID\": \"15727\", \"NpcName\": \"C'Thun\", \"Kill\": true, \"Quest\": false, \"QuestID\": 0, \"Recipe\": false, \"RecipeID\": 0, \"DropChance\": \"31\", \"Zone\": \"Ahn'Qiraj\"}}, \"Shoulder\": {\"id\": 21330, \"Obtain\": {\"NpcID\": 0, \"NpcName\": \"\", \"Kill\": false, \"Quest\": true, \"QuestID\": \"8544\", \"Recipe\": false, \"RecipeID\": 0, \"DropChance\": 0, \"Zone\": \"Ahn'Qiraj\"}}, \"Back\": {\"id\": 21710, \"Obtain\": {\"NpcID\": 0, \"NpcName\": \"\", \"Kill\": false, \"Quest\": true, \"QuestID\": \"8802\", \"Recipe\": false, \"RecipeID\": 0, \"DropChance\": 0, \"Zone\": \"Ahn'Qiraj\"}}, \"Chest\": {\"id\": 21331, \"Obtain\": {\"NpcID\": 0, \"NpcName\": \"\", \"Kill\": false, \"Quest\": true, \"QuestID\": \"8562\", \"Recipe\": false, \"RecipeID\": 0, \"DropChance\": 0, \"Zone\": \"Ahn'Qiraj\"}}, \"Wrists\": {\"id\": 21457, \"Obtain\": {\"NpcID\": \"15339\", \"NpcName\": \"Ossirian the Unscarred\", \"Kill\": true, \"Quest\": false, \"QuestID\": 0, \"Recipe\": false, \"RecipeID\": 0, \"DropChance\": \"27\", \"Zone\": \"Ruins of Ahn'Qiraj\"}}, \"Hands\": {\"id\": 21674, \"Obtain\": {\"NpcID\": \"15516\", \"NpcName\": \"Battleguard Sartura\", \"Kill\": true, \"Quest\": false, \"QuestID\": 0, \"Recipe\": false, \"RecipeID\": 0, \"DropChance\": \"22\", \"Zone\": \"Ahn'Qiraj\"}}, \"Waist\": {\"id\": 21598, \"Obtain\": {\"NpcID\": \"15276\", \"NpcName\": \"Emperor Vek'lor\", \"Kill\": true, \"Quest\": false, \"QuestID\": 0, \"Recipe\": false, \"RecipeID\": 0, \"DropChance\": \"25\", \"Zone\": \"Ahn'Qiraj\"}}, \"Legs\": {\"id\": 21332, \"Obtain\": {\"NpcID\": 0, \"NpcName\": \"\", \"Kill\": false, \"Quest\": true, \"QuestID\": \"8560\", \"Recipe\": false, \"RecipeID\": 0, \"DropChance\": 0, \"Zone\": \"Ahn'Qiraj\"}}, \"Boots\": {\"id\": 19387, \"Obtain\": {\"NpcID\": \"14020\", \"NpcName\": \"Chromaggus\", \"Kill\": true, \"Quest\": false, \"QuestID\": 0, \"Recipe\": false, \"RecipeID\": 0, \"DropChance\": \"36\", \"Zone\": \"Blackwing Lair\"}}, \"Finger\": {\"id\": 21205, \"Obtain\": {\"NpcID\": 0, \"NpcName\": \"\", \"Kill\": false, \"Quest\": false, \"QuestID\": 0, \"Recipe\": true, \"RecipeID\": \"25931\", \"DropChance\": 0, \"Zone\": \"\"}}, \"RFinger\": {\"id\": 17063, \"Obtain\": {\"NpcID\": \"11502\", \"NpcName\": \"Ragnaros\", \"Kill\": true, \"Quest\": false, \"QuestID\": 0, \"Recipe\": false, \"RecipeID\": 0, \"DropChance\": \"27\", \"Zone\": \"Molten Core\"}}, \"Trinket\": {\"id\": 19341, \"Obtain\": {\"NpcID\": \"12017\", \"NpcName\": \"Broodlord Lashlayer\", \"Kill\": true, \"Quest\": false, \"QuestID\": 0, \"Recipe\": false, \"RecipeID\": 0, \"DropChance\": \"29\", \"Zone\": \"Blackwing Lair\"}}, \"RTrinket\": {\"id\": 22954, \"Obtain\": {\"NpcID\": \"15952\", \"NpcName\": \"Maexxna\", \"Kill\": true, \"Quest\": false, \"QuestID\": 0, \"Recipe\": false, \"RecipeID\": 0, \"DropChance\": \"22\", \"Zone\": \"Naxxramas\"}}, \"MainHand\": {\"id\": 23577, \"Obtain\": {\"NpcID\": 0, \"NpcName\": \"\", \"Kill\": false, \"Quest\": false, \"QuestID\": 0, \"Recipe\": false, \"RecipeID\": 0, \"DropChance\": 0, \"Zone\": \"\"}}, \"SecondaryHand\": {\"id\": 23043, \"Obtain\": {\"NpcID\": \"15989\", \"NpcName\": \"Sapphiron\", \"Kill\": true, \"Quest\": false, \"QuestID\": 0, \"Recipe\": false, \"RecipeID\": 0, \"DropChance\": \"18\", \"Zone\": \"Naxxramas\"}}, \"Relic\": {\"id\": 22811, \"Obtain\": {\"NpcID\": 0, \"NpcName\": \"\", \"Kill\": false, \"Quest\": false, \"QuestID\": 0, \"Recipe\": false, \"RecipeID\": 0, \"DropChance\": 0, \"Zone\": \"\"}}}, \"FuryProt-P5\": {\"Head\": {\"id\": 12640, \"Obtain\": {\"NpcID\": 0, \"NpcName\": \"\", \"Kill\": false, \"Quest\": false, \"QuestID\": 0, \"Recipe\": true, \"RecipeID\": \"16729\", \"DropChance\": 0, \"Zone\": \"\"}}, \"Neck\": {\"id\": 18404, \"Obtain\": {\"NpcID\": 0, \"NpcName\": \"\", \"Kill\": false, \"Quest\": true, \"QuestID\": \"7496\", \"Recipe\": false, \"RecipeID\": 0, \"DropChance\": 0, \"Zone\": \"Stormwind City\"}}, \"Shoulder\": {\"id\": 19394, \"Obtain\": {\"NpcID\": \"11983\", \"NpcName\": \"Firemaw\", \"Kill\": true, \"Quest\": false, \"QuestID\": 0, \"Recipe\": false, \"RecipeID\": 0, \"DropChance\": \"14\", \"Zone\": \"Blackwing Lair\"}}, \"Back\": {\"id\": 17102, \"Obtain\": {\"NpcID\": \"11502\", \"NpcName\": \"Ragnaros\", \"Kill\": true, \"Quest\": false, \"QuestID\": 0, \"Recipe\": false, \"RecipeID\": 0, \"DropChance\": \"32\", \"Zone\": \"Molten Core\"}}, \"Chest\": {\"id\": 11726, \"Obtain\": {\"NpcID\": \"9027\", \"NpcName\": \"Gorosh the Dervish\", \"Kill\": true, \"Quest\": false, \"QuestID\": 0, \"Recipe\": false, \"RecipeID\": 0, \"DropChance\": \"12\", \"Zone\": \"Blackrock Depths\"}}, \"Wrists\": {\"id\": 19578, \"Obtain\": {\"NpcID\": 0, \"NpcName\": \"\", \"Kill\": false, \"Quest\": false, \"QuestID\": 0, \"Recipe\": false, \"RecipeID\": 0, \"DropChance\": 0, \"Zone\": \"\"}}, \"Hands\": {\"id\": 19143, \"Obtain\": {\"NpcID\": \"11982\", \"NpcName\": \"Magmadar\", \"Kill\": true, \"Quest\": false, \"QuestID\": 0, \"Recipe\": false, \"RecipeID\": 0, \"DropChance\": \"11\", \"Zone\": \"Molten Core\"}}, \"Waist\": {\"id\": 19137, \"Obtain\": {\"NpcID\": \"11502\", \"NpcName\": \"Ragnaros\", \"Kill\": true, \"Quest\": false, \"QuestID\": 0, \"Recipe\": false, \"RecipeID\": 0, \"DropChance\": \"24\", \"Zone\": \"Molten Core\"}}, \"Legs\": {\"id\": 16962, \"Obtain\": {\"NpcID\": \"11502\", \"NpcName\": \"Ragnaros\", \"Kill\": true, \"Quest\": false, \"QuestID\": 0, \"Recipe\": false, \"RecipeID\": 0, \"DropChance\": \"27\", \"Zone\": \"Molten Core\"}}, \"Boots\": {\"id\": 19387, \"Obtain\": {\"NpcID\": \"14020\", \"NpcName\": \"Chromaggus\", \"Kill\": true, \"Quest\": false, \"QuestID\": 0, \"Recipe\": false, \"RecipeID\": 0, \"DropChance\": \"36\", \"Zone\": \"Blackwing Lair\"}}, \"Finger\": {\"id\": 17063, \"Obtain\": {\"NpcID\": \"11502\", \"NpcName\": \"Ragnaros\", \"Kill\": true, \"Quest\": false, \"QuestID\": 0, \"Recipe\": false, \"RecipeID\": 0, \"DropChance\": \"27\", \"Zone\": \"Molten Core\"}}, \"RFinger\": {\"id\": 19384, \"Obtain\": {\"NpcID\": 0, \"NpcName\": \"\", \"Kill\": false, \"Quest\": true, \"QuestID\": \"7782\", \"Recipe\": false, \"RecipeID\": 0, \"DropChance\": 0, \"Zone\": \"Stormwind City\"}}, \"Trinket\": {\"id\": 19406, \"Obtain\": {\"NpcID\": \"14601\", \"NpcName\": \"Ebonroc\", \"Kill\": true, \"Quest\": false, \"QuestID\": 0, \"Recipe\": false, \"RecipeID\": 0, \"DropChance\": \"33\", \"Zone\": \"Blackwing Lair\"}}, \"RTrinket\": {\"id\": 11815, \"Obtain\": {\"NpcID\": \"9019\", \"NpcName\": \"Emperor Dagran Thaurissan\", \"Kill\": true, \"Quest\": false, \"QuestID\": 0, \"Recipe\": false, \"RecipeID\": 0, \"DropChance\": \"16\", \"Zone\": \"Blackrock Depths\"}}, \"MainHand\": {\"id\": 19352, \"Obtain\": {\"NpcID\": \"14020\", \"NpcName\": \"Chromaggus\", \"Kill\": true, \"Quest\": false, \"QuestID\": 0, \"Recipe\": false, \"RecipeID\": 0, \"DropChance\": \"17\", \"Zone\": \"Blackwing Lair\"}}, \"SecondaryHand\": {\"id\": 19351, \"Obtain\": {\"NpcID\": \"12017\", \"NpcName\": \"Broodlord Lashlayer\", \"Kill\": true, \"Quest\": false, \"QuestID\": 0, \"Recipe\": false, \"RecipeID\": 0, \"DropChance\": \"16\", \"Zone\": \"Blackwing Lair\"}}, \"Relic\": {\"id\": 17072, \"Obtain\": {\"NpcID\": \"11988\", \"NpcName\": \"Golemagg the Incinerator\", \"Kill\": true, \"Quest\": false, \"QuestID\": 0, \"Recipe\": false, \"RecipeID\": 0, \"DropChance\": \"34\", \"Zone\": \"Molten Core\"}}}, \"FuryProt-P6\": {\"Head\": {\"id\": 12640, \"Obtain\": {\"NpcID\": 0, \"NpcName\": \"\", \"Kill\": false, \"Quest\": false, \"QuestID\": 0, \"Recipe\": true, \"RecipeID\": \"16729\", \"DropChance\": 0, \"Zone\": \"\"}}, \"Neck\": {\"id\": 18404, \"Obtain\": {\"NpcID\": 0, \"NpcName\": \"\", \"Kill\": false, \"Quest\": true, \"QuestID\": \"7496\", \"Recipe\": false, \"RecipeID\": 0, \"DropChance\": 0, \"Zone\": \"Stormwind City\"}}, \"Shoulder\": {\"id\": 19394, \"Obtain\": {\"NpcID\": \"11983\", \"NpcName\": \"Firemaw\", \"Kill\": true, \"Quest\": false, \"QuestID\": 0, \"Recipe\": false, \"RecipeID\": 0, \"DropChance\": \"14\", \"Zone\": \"Blackwing Lair\"}}, \"Back\": {\"id\": 17102, \"Obtain\": {\"NpcID\": \"11502\", \"NpcName\": \"Ragnaros\", \"Kill\": true, \"Quest\": false, \"QuestID\": 0, \"Recipe\": false, \"RecipeID\": 0, \"DropChance\": \"32\", \"Zone\": \"Molten Core\"}}, \"Chest\": {\"id\": 11726, \"Obtain\": {\"NpcID\": \"9027\", \"NpcName\": \"Gorosh the Dervish\", \"Kill\": true, \"Quest\": false, \"QuestID\": 0, \"Recipe\": false, \"RecipeID\": 0, \"DropChance\": \"12\", \"Zone\": \"Blackrock Depths\"}}, \"Wrists\": {\"id\": 19578, \"Obtain\": {\"NpcID\": 0, \"NpcName\": \"\", \"Kill\": false, \"Quest\": false, \"QuestID\": 0, \"Recipe\": false, \"RecipeID\": 0, \"DropChance\": 0, \"Zone\": \"\"}}, \"Hands\": {\"id\": 19143, \"Obtain\": {\"NpcID\": \"11982\", \"NpcName\": \"Magmadar\", \"Kill\": true, \"Quest\": false, \"QuestID\": 0, \"Recipe\": false, \"RecipeID\": 0, \"DropChance\": \"11\", \"Zone\": \"Molten Core\"}}, \"Waist\": {\"id\": 19137, \"Obtain\": {\"NpcID\": \"11502\", \"NpcName\": \"Ragnaros\", \"Kill\": true, \"Quest\": false, \"QuestID\": 0, \"Recipe\": false, \"RecipeID\": 0, \"DropChance\": \"24\", \"Zone\": \"Molten Core\"}}, \"Legs\": {\"id\": 16962, \"Obtain\": {\"NpcID\": \"11502\", \"NpcName\": \"Ragnaros\", \"Kill\": true, \"Quest\": false, \"QuestID\": 0, \"Recipe\": false, \"RecipeID\": 0, \"DropChance\": \"27\", \"Zone\": \"Molten Core\"}}, \"Boots\": {\"id\": 19387, \"Obtain\": {\"NpcID\": \"14020\", \"NpcName\": \"Chromaggus\", \"Kill\": true, \"Quest\": false, \"QuestID\": 0, \"Recipe\": false, \"RecipeID\": 0, \"DropChance\": \"36\", \"Zone\": \"Blackwing Lair\"}}, \"Finger\": {\"id\": 17063, \"Obtain\": {\"NpcID\": \"11502\", \"NpcName\": \"Ragnaros\", \"Kill\": true, \"Quest\": false, \"QuestID\": 0, \"Recipe\": false, \"RecipeID\": 0, \"DropChance\": \"27\", \"Zone\": \"Molten Core\"}}, \"RFinger\": {\"id\": 19384, \"Obtain\": {\"NpcID\": 0, \"NpcName\": \"\", \"Kill\": false, \"Quest\": true, \"QuestID\": \"7782\", \"Recipe\": false, \"RecipeID\": 0, \"DropChance\": 0, \"Zone\": \"Stormwind City\"}}, \"Trinket\": {\"id\": 19406, \"Obtain\": {\"NpcID\": \"14601\", \"NpcName\": \"Ebonroc\", \"Kill\": true, \"Quest\": false, \"QuestID\": 0, \"Recipe\": false, \"RecipeID\": 0, \"DropChance\": \"33\", \"Zone\": \"Blackwing Lair\"}}, \"RTrinket\": {\"id\": 11815, \"Obtain\": {\"NpcID\": \"9019\", \"NpcName\": \"Emperor Dagran Thaurissan\", \"Kill\": true, \"Quest\": false, \"QuestID\": 0, \"Recipe\": false, \"RecipeID\": 0, \"DropChance\": \"16\", \"Zone\": \"Blackrock Depths\"}}, \"MainHand\": {\"id\": 19352, \"Obtain\": {\"NpcID\": \"14020\", \"NpcName\": \"Chromaggus\", \"Kill\": true, \"Quest\": false, \"QuestID\": 0, \"Recipe\": false, \"RecipeID\": 0, \"DropChance\": \"17\", \"Zone\": \"Blackwing Lair\"}}, \"SecondaryHand\": {\"id\": 19351, \"Obtain\": {\"NpcID\": \"12017\", \"NpcName\": \"Broodlord Lashlayer\", \"Kill\": true, \"Quest\": false, \"QuestID\": 0, \"Recipe\": false, \"RecipeID\": 0, \"DropChance\": \"16\", \"Zone\": \"Blackwing Lair\"}}, \"Relic\": {\"id\": 17072, \"Obtain\": {\"NpcID\": \"11988\", \"NpcName\": \"Golemagg the Incinerator\", \"Kill\": true, \"Quest\": false, \"QuestID\": 0, \"Recipe\": false, \"RecipeID\": 0, \"DropChance\": \"34\", \"Zone\": \"Molten Core\"}}}}}\n"
     ]
    }
   ],
   "source": [
    "nd = json.dumps(nd)\n",
    "nd = nd.replace('\"{', '{')\n",
    "nd = nd.replace('}\"', '}')\n",
    "nd = nd.replace('\\\\', '')\n",
    "print(nd)"
   ]
  },
  {
   "cell_type": "code",
   "execution_count": 23,
   "metadata": {},
   "outputs": [],
   "source": [
    "t = open(\"dataFile.json\", \"w\")\n",
    "t.write(nd)\n",
    "t.close()"
   ]
  },
  {
   "cell_type": "code",
   "execution_count": null,
   "metadata": {},
   "outputs": [],
   "source": []
  }
 ]
}