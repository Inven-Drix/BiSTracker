{
 "metadata": {
  "language_info": {
   "codemirror_mode": {
    "name": "ipython",
    "version": 3
   },
   "file_extension": ".py",
   "mimetype": "text/x-python",
   "name": "python",
   "nbconvert_exporter": "python",
   "pygments_lexer": "ipython3",
   "version": "3.8.5-final"
  },
  "orig_nbformat": 2,
  "kernelspec": {
   "name": "python3",
   "display_name": "Python 3"
  }
 },
 "nbformat": 4,
 "nbformat_minor": 2,
 "cells": [
  {
   "cell_type": "code",
   "execution_count": 1,
   "metadata": {},
   "outputs": [],
   "source": [
    "import requests\n",
    "import json\n",
    "from bs4 import BeautifulSoup"
   ]
  },
  {
   "cell_type": "code",
   "execution_count": 2,
   "metadata": {},
   "outputs": [],
   "source": [
    "d = \"\"\n",
    "with open(\"data/tempDataIDS.json\") as file:\n",
    "    d = json.loads(file.read())"
   ]
  },
  {
   "cell_type": "code",
   "execution_count": 3,
   "metadata": {},
   "outputs": [],
   "source": [
    "class Item:\n",
    "    def __init__(self, id, npcID, npcName, kill, quest, questID, recipe, recipeID, dropChance, zone):\n",
    "        self.id = id\n",
    "        self.Obtain = {}\n",
    "        self.Obtain[\"NpcID\"] = npcID\n",
    "        self.Obtain[\"NpcName\"] = npcName\n",
    "        self.Obtain[\"Kill\"] = kill\n",
    "        self.Obtain[\"Quest\"] = quest\n",
    "        self.Obtain[\"QuestID\"] = questID\n",
    "        self.Obtain[\"Recipe\"] = recipe\n",
    "        self.Obtain[\"RecipeID\"] = recipeID\n",
    "        self.Obtain[\"DropChance\"] = dropChance\n",
    "        self.Obtain[\"Zone\"] = zone\n",
    "    def toJson(self):\n",
    "        return json.dumps(self, default=lambda o: o.__dict__)"
   ]
  },
  {
   "cell_type": "code",
   "execution_count": 5,
   "metadata": {},
   "outputs": [],
   "source": [
    "URL = 'https://classic.wowhead.com/item='\n",
    "SCRIPT_START = 'WH.Gatherer.addData('\n",
    "DATA_START = '$.extend('\n",
    "\n",
    "def get_region(content, start, end = None):\n",
    "    idx_s = content.index(start)\n",
    "    idx_e = len(content)\n",
    "    if end:\n",
    "        idx_e = content.index(end, idx_s)\n",
    "    return content[idx_s + len(start): idx_e]\n",
    "\n",
    "def GetItem(itemID):\n",
    "    url = 'https://classic.wowhead.com/item='+str(itemID)\n",
    "    page = requests.get(url)\n",
    "    soup = BeautifulSoup(page.content, 'html.parser')\n",
    "\n",
    "    main = soup.find(id='main-contents')\n",
    "    scripts = main.findAll('script')\n",
    "    data_container = None\n",
    "\n",
    "    #Find script tag\n",
    "    for child in scripts:\n",
    "        content = ''.join(child.contents).replace('\\n    ', '').strip()\n",
    "        if content.startswith(SCRIPT_START):\n",
    "            data_container = content\n",
    "            break\n",
    "    r0 = get_region(data_container, DATA_START)\n",
    "    r1 = get_region(r0, ', ', ');')\n",
    "    data = json.loads(r1)\n",
    "    print(data['sourcemore'])\n",
    "\n",
    "\n",
    "    acquireType = None\n",
    "    if data['sourcemore']['t'] == 1:\n",
    "    #   type = kill\n",
    "    elif data['sourcemore']['t'] == 5:\n",
    "    #   type = quest \n",
    "    elif data['sourcemore']['t'] == 6:\n",
    "    #   type = recipe\n"
   ]
  },
  {
   "cell_type": "code",
   "execution_count": 6,
   "metadata": {},
   "outputs": [
    {
     "output_type": "stream",
     "name": "stdout",
     "text": [
      "[{'bd': 1, 'n': 'Fankriss the Unyielding', 't': 1, 'ti': 15510, 'z': 3428}]\n",
      "[{'c': 11, 'icon': 'inv_helmet_04', 'n': 'Wolfshead Helm', 's': 165, 't': 6, 'ti': 10621}]\n",
      "[{'c': 46, 'c2': 0, 'n': 'Libram of Voracity', 't': 5, 'ti': 4484}]\n"
     ]
    }
   ],
   "source": [
    "GetItem(21639)\n",
    "GetItem(8345)\n",
    "GetItem(11647)"
   ]
  },
  {
   "cell_type": "code",
   "execution_count": null,
   "metadata": {},
   "outputs": [],
   "source": []
  }
 ]
}